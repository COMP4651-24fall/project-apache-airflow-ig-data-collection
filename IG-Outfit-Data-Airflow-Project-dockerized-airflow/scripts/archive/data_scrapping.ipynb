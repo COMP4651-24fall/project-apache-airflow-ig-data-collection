{
 "cells": [
  {
   "cell_type": "code",
   "execution_count": 1,
   "id": "8375b62f",
   "metadata": {
    "execution": {
     "iopub.execute_input": "2024-11-05T23:18:29.813648Z",
     "iopub.status.busy": "2024-11-05T23:18:29.813326Z",
     "iopub.status.idle": "2024-11-05T23:18:29.819582Z",
     "shell.execute_reply": "2024-11-05T23:18:29.818871Z"
    },
    "papermill": {
     "duration": 0.015152,
     "end_time": "2024-11-05T23:18:29.820876",
     "exception": false,
     "start_time": "2024-11-05T23:18:29.805724",
     "status": "completed"
    },
    "tags": [
     "injected-parameters"
    ]
   },
   "outputs": [],
   "source": [
    "# Parameters\n",
    "account_name = \"lazarnedkov\"\n"
   ]
  },
  {
   "cell_type": "code",
   "execution_count": 2,
   "id": "d4174eed",
   "metadata": {
    "execution": {
     "iopub.execute_input": "2024-11-05T23:18:29.828075Z",
     "iopub.status.busy": "2024-11-05T23:18:29.827826Z",
     "iopub.status.idle": "2024-11-05T23:18:32.713296Z",
     "shell.execute_reply": "2024-11-05T23:18:32.712595Z"
    },
    "papermill": {
     "duration": 2.889687,
     "end_time": "2024-11-05T23:18:32.714508",
     "exception": false,
     "start_time": "2024-11-05T23:18:29.824821",
     "status": "completed"
    },
    "tags": []
   },
   "outputs": [
    {
     "name": "stderr",
     "output_type": "stream",
     "text": [
      "/tmp/ipykernel_75/668243277.py:13: UserWarning: You appear to be connected to a CosmosDB cluster. For more information regarding feature compatibility and support please visit https://www.mongodb.com/supportability/cosmosdb\n",
      "  client = MongoClient(connection_string)\n"
     ]
    },
    {
     "name": "stdout",
     "output_type": "stream",
     "text": [
      "Current Database: facci-stylematch Collections: ['IGaccounts', 'IGposts']\n"
     ]
    }
   ],
   "source": [
    "import os\n",
    "import csv\n",
    "from pymongo import MongoClient\n",
    "from dotenv import load_dotenv\n",
    "import instaloader\n",
    "from datetime import datetime\n",
    "from tqdm import tqdm\n",
    "import pandas as pd\n",
    "load_dotenv('.env')\n",
    "\n",
    "# MongoDB Connection\n",
    "connection_string = os.getenv('MONGO_CONNECTION_STRING')\n",
    "client = MongoClient(connection_string)\n",
    "db = client.get_database()\n",
    "print('Current Database:', db.name, 'Collections:', db.list_collection_names())\n",
    "# path for stroging file\n",
    "csv_file_path = os.getenv('IG_POST_CSV_PATH')"
   ]
  },
  {
   "cell_type": "code",
   "execution_count": 3,
   "id": "0719388b",
   "metadata": {
    "execution": {
     "iopub.execute_input": "2024-11-05T23:18:32.721327Z",
     "iopub.status.busy": "2024-11-05T23:18:32.720942Z",
     "iopub.status.idle": "2024-11-05T23:18:32.728809Z",
     "shell.execute_reply": "2024-11-05T23:18:32.728079Z"
    },
    "papermill": {
     "duration": 0.011053,
     "end_time": "2024-11-05T23:18:32.729672",
     "exception": false,
     "start_time": "2024-11-05T23:18:32.718619",
     "status": "completed"
    },
    "tags": []
   },
   "outputs": [],
   "source": [
    "posts_collection = db['IGposts']\n",
    "\n",
    "def post_exists(shortcode):\n",
    "    return posts_collection.find_one({'shortcode': shortcode}) is not None\n",
    "\n",
    "def scrape_account(account_name, username=None, password=None, login_required=False):\n",
    "    L = instaloader.Instaloader()\n",
    "\n",
    "    # Login to Instagram if required\n",
    "    if login_required:\n",
    "        try:\n",
    "            L.load_session_from_file(username)  # Load session from file\n",
    "            print(f\"Loaded session for {username}\")\n",
    "        except FileNotFoundError:\n",
    "            # If session file does not exist, log in and save session\n",
    "            try:\n",
    "                L.login(username, password)\n",
    "                L.save_session_to_file()\n",
    "                print(f\"Logged in as {username} and saved session\")\n",
    "            except instaloader.exceptions.TwoFactorAuthRequiredException:\n",
    "                code = input(\"Enter the two-factor authentication code: \")\n",
    "                L.two_factor_login(code)\n",
    "                L.save_session_to_file()\n",
    "                print(f\"Logged in as {username} with 2FA and saved session\")\n",
    "    else:\n",
    "        print(\"Skipping login as per user choice.\")\n",
    "\n",
    "    # Fetch posts from the account\n",
    "    try:\n",
    "        profile = instaloader.Profile.from_username(L.context, account_name)\n",
    "        print(f\"Fetched {account_name} profile\")\n",
    "        posts = profile.get_posts()\n",
    "\n",
    "        data = []\n",
    "\n",
    "        for post in tqdm(posts, desc=f\"Scraping {account_name}\", unit=\"post\"):\n",
    "            shortcode = post.shortcode\n",
    "            image_urls = []\n",
    "            reel_urls = []\n",
    "\n",
    "            if post_exists(shortcode):\n",
    "                print(f\"Post with shortcode {shortcode} already exists. Skipping.\")\n",
    "                continue\n",
    "\n",
    "            if post.is_video:\n",
    "                reel_urls.append(post.video_url)\n",
    "            else:\n",
    "                if post.mediacount > 1:\n",
    "                    image_urls.extend([node.display_url for node in post.get_sidecar_nodes()])\n",
    "                else:\n",
    "                    image_urls.append(post.url)\n",
    "\n",
    "            data.append({\n",
    "                'shortcode': shortcode,\n",
    "                'post_date': post.date_utc,\n",
    "                'account_name': account_name,\n",
    "                'caption': post.caption or \"\",\n",
    "                'like_count': post.likes,\n",
    "                'media_count': post.mediacount if not post.is_video else 1,\n",
    "                'video_view_count': post.video_view_count if post.is_video else None,\n",
    "                'image_urls': image_urls if not post.is_video else None,\n",
    "                'reel_urls': reel_urls if post.is_video else None\n",
    "            })\n",
    "\n",
    "        # Convert data to DataFrame and save as CSV\n",
    "        df = pd.DataFrame(data)\n",
    "        temp_csv_file = f\"{csv_file_path}/{account_name}_scraped_results.csv\"\n",
    "        df.to_csv(temp_csv_file, index=False)\n",
    "        print(f\"Data saved to {temp_csv_file}\")\n",
    "\n",
    "    except Exception as e:\n",
    "        print('Error fetching accounts: ' + account_name, e)\n",
    "        raise"
   ]
  },
  {
   "cell_type": "code",
   "execution_count": 4,
   "id": "276f42d4",
   "metadata": {
    "execution": {
     "iopub.execute_input": "2024-11-05T23:18:32.732907Z",
     "iopub.status.busy": "2024-11-05T23:18:32.732775Z",
     "iopub.status.idle": "2024-11-05T23:33:49.727940Z",
     "shell.execute_reply": "2024-11-05T23:33:49.727597Z"
    },
    "papermill": {
     "duration": 916.997809,
     "end_time": "2024-11-05T23:33:49.728980",
     "exception": false,
     "start_time": "2024-11-05T23:18:32.731171",
     "status": "completed"
    },
    "tags": []
   },
   "outputs": [
    {
     "name": "stdout",
     "output_type": "stream",
     "text": [
      "Skipping login as per user choice.\n"
     ]
    },
    {
     "name": "stdout",
     "output_type": "stream",
     "text": [
      "Fetched lazarnedkov profile\n"
     ]
    },
    {
     "name": "stderr",
     "output_type": "stream",
     "text": [
      "\r",
      "Scraping lazarnedkov: 0post [00:00, ?post/s]"
     ]
    },
    {
     "name": "stderr",
     "output_type": "stream",
     "text": [
      "\r",
      "Scraping lazarnedkov: 1post [00:00,  3.94post/s]"
     ]
    },
    {
     "name": "stderr",
     "output_type": "stream",
     "text": [
      "\r",
      "Scraping lazarnedkov: 2post [00:04,  2.70s/post]"
     ]
    },
    {
     "name": "stderr",
     "output_type": "stream",
     "text": [
      "\r",
      "Scraping lazarnedkov: 3post [00:04,  1.57s/post]"
     ]
    },
    {
     "name": "stderr",
     "output_type": "stream",
     "text": [
      "\r",
      "Scraping lazarnedkov: 4post [00:05,  1.10s/post]"
     ]
    },
    {
     "name": "stderr",
     "output_type": "stream",
     "text": [
      "\r",
      "Scraping lazarnedkov: 5post [00:05,  1.23post/s]"
     ]
    },
    {
     "name": "stderr",
     "output_type": "stream",
     "text": [
      "\r",
      "Scraping lazarnedkov: 6post [00:05,  1.63post/s]"
     ]
    },
    {
     "name": "stderr",
     "output_type": "stream",
     "text": [
      "\r",
      "Scraping lazarnedkov: 7post [00:06,  1.98post/s]"
     ]
    },
    {
     "name": "stderr",
     "output_type": "stream",
     "text": [
      "\r",
      "Scraping lazarnedkov: 8post [00:09,  1.39s/post]"
     ]
    },
    {
     "name": "stderr",
     "output_type": "stream",
     "text": [
      "\r",
      "Scraping lazarnedkov: 9post [00:09,  1.02s/post]"
     ]
    },
    {
     "name": "stderr",
     "output_type": "stream",
     "text": [
      "\r",
      "Scraping lazarnedkov: 10post [00:09,  1.29post/s]"
     ]
    },
    {
     "name": "stderr",
     "output_type": "stream",
     "text": [
      "\r",
      "Scraping lazarnedkov: 11post [00:10,  1.46post/s]"
     ]
    },
    {
     "name": "stderr",
     "output_type": "stream",
     "text": [
      "\r",
      "Scraping lazarnedkov: 12post [00:10,  1.84post/s]"
     ]
    },
    {
     "name": "stderr",
     "output_type": "stream",
     "text": [
      "\r",
      "Scraping lazarnedkov: 13post [00:14,  1.52s/post]"
     ]
    },
    {
     "name": "stderr",
     "output_type": "stream",
     "text": [
      "\r",
      "Scraping lazarnedkov: 14post [00:14,  1.13s/post]"
     ]
    },
    {
     "name": "stderr",
     "output_type": "stream",
     "text": [
      "\r",
      "Scraping lazarnedkov: 15post [00:19,  2.22s/post]"
     ]
    },
    {
     "name": "stderr",
     "output_type": "stream",
     "text": [
      "\r",
      "Scraping lazarnedkov: 16post [00:19,  1.63s/post]"
     ]
    },
    {
     "name": "stderr",
     "output_type": "stream",
     "text": [
      "\r",
      "Scraping lazarnedkov: 17post [00:19,  1.23s/post]"
     ]
    },
    {
     "name": "stderr",
     "output_type": "stream",
     "text": [
      "\r",
      "Scraping lazarnedkov: 18post [00:20,  1.05post/s]"
     ]
    },
    {
     "name": "stderr",
     "output_type": "stream",
     "text": [
      "\r",
      "Scraping lazarnedkov: 19post [00:20,  1.32post/s]"
     ]
    },
    {
     "name": "stderr",
     "output_type": "stream",
     "text": [
      "\r",
      "Scraping lazarnedkov: 20post [00:20,  1.68post/s]"
     ]
    },
    {
     "name": "stderr",
     "output_type": "stream",
     "text": [
      "\r",
      "Scraping lazarnedkov: 21post [00:20,  2.07post/s]"
     ]
    },
    {
     "name": "stderr",
     "output_type": "stream",
     "text": [
      "\r",
      "Scraping lazarnedkov: 22post [00:21,  2.37post/s]"
     ]
    },
    {
     "name": "stderr",
     "output_type": "stream",
     "text": [
      "\r",
      "Scraping lazarnedkov: 23post [00:21,  2.77post/s]"
     ]
    },
    {
     "name": "stderr",
     "output_type": "stream",
     "text": [
      "\r",
      "Scraping lazarnedkov: 24post [00:21,  3.12post/s]"
     ]
    },
    {
     "name": "stderr",
     "output_type": "stream",
     "text": [
      "\r",
      "Scraping lazarnedkov: 25post [00:30,  3.04s/post]"
     ]
    },
    {
     "name": "stderr",
     "output_type": "stream",
     "text": [
      "\r",
      "Scraping lazarnedkov: 26post [00:31,  2.19s/post]"
     ]
    },
    {
     "name": "stderr",
     "output_type": "stream",
     "text": [
      "\r",
      "Scraping lazarnedkov: 27post [00:31,  1.60s/post]"
     ]
    },
    {
     "name": "stderr",
     "output_type": "stream",
     "text": [
      "\r",
      "Scraping lazarnedkov: 28post [00:34,  1.97s/post]"
     ]
    },
    {
     "name": "stderr",
     "output_type": "stream",
     "text": [
      "\r",
      "Scraping lazarnedkov: 29post [00:34,  1.45s/post]"
     ]
    },
    {
     "name": "stderr",
     "output_type": "stream",
     "text": [
      "\r",
      "Scraping lazarnedkov: 30post [00:34,  1.10s/post]"
     ]
    },
    {
     "name": "stderr",
     "output_type": "stream",
     "text": [
      "\r",
      "Scraping lazarnedkov: 31post [00:35,  1.16post/s]"
     ]
    },
    {
     "name": "stderr",
     "output_type": "stream",
     "text": [
      "\r",
      "Scraping lazarnedkov: 32post [00:35,  1.49post/s]"
     ]
    },
    {
     "name": "stderr",
     "output_type": "stream",
     "text": [
      "\r",
      "Scraping lazarnedkov: 33post [00:35,  1.87post/s]"
     ]
    },
    {
     "name": "stderr",
     "output_type": "stream",
     "text": [
      "\r",
      "Scraping lazarnedkov: 34post [00:35,  2.27post/s]"
     ]
    },
    {
     "name": "stderr",
     "output_type": "stream",
     "text": [
      "\r",
      "Scraping lazarnedkov: 35post [00:35,  2.60post/s]"
     ]
    },
    {
     "name": "stderr",
     "output_type": "stream",
     "text": [
      "\r",
      "Scraping lazarnedkov: 36post [00:36,  2.77post/s]"
     ]
    },
    {
     "name": "stderr",
     "output_type": "stream",
     "text": [
      "\r",
      "Scraping lazarnedkov: 37post [00:39,  1.34s/post]"
     ]
    },
    {
     "name": "stderr",
     "output_type": "stream",
     "text": [
      "\r",
      "Scraping lazarnedkov: 38post [00:42,  1.59s/post]"
     ]
    },
    {
     "name": "stderr",
     "output_type": "stream",
     "text": [
      "\r",
      "Scraping lazarnedkov: 39post [00:42,  1.18s/post]"
     ]
    },
    {
     "name": "stderr",
     "output_type": "stream",
     "text": [
      "\r",
      "Scraping lazarnedkov: 40post [00:42,  1.12post/s]"
     ]
    },
    {
     "name": "stderr",
     "output_type": "stream",
     "text": [
      "\r",
      "Scraping lazarnedkov: 41post [00:42,  1.45post/s]"
     ]
    },
    {
     "name": "stderr",
     "output_type": "stream",
     "text": [
      "\r",
      "Scraping lazarnedkov: 42post [00:45,  1.44s/post]"
     ]
    },
    {
     "name": "stderr",
     "output_type": "stream",
     "text": [
      "\r",
      "Scraping lazarnedkov: 43post [00:46,  1.07s/post]"
     ]
    },
    {
     "name": "stderr",
     "output_type": "stream",
     "text": [
      "\r",
      "Scraping lazarnedkov: 44post [00:46,  1.23post/s]"
     ]
    },
    {
     "name": "stderr",
     "output_type": "stream",
     "text": [
      "\r",
      "Scraping lazarnedkov: 45post [00:46,  1.57post/s]"
     ]
    },
    {
     "name": "stderr",
     "output_type": "stream",
     "text": [
      "\r",
      "Scraping lazarnedkov: 46post [00:46,  1.95post/s]"
     ]
    },
    {
     "name": "stderr",
     "output_type": "stream",
     "text": [
      "\r",
      "Scraping lazarnedkov: 47post [00:47,  2.32post/s]"
     ]
    },
    {
     "name": "stderr",
     "output_type": "stream",
     "text": [
      "\r",
      "Scraping lazarnedkov: 48post [00:47,  2.48post/s]"
     ]
    },
    {
     "name": "stderr",
     "output_type": "stream",
     "text": [
      "\r",
      "Scraping lazarnedkov: 49post [01:00,  4.19s/post]"
     ]
    },
    {
     "name": "stderr",
     "output_type": "stream",
     "text": [
      "\r",
      "Scraping lazarnedkov: 50post [01:00,  3.01s/post]"
     ]
    },
    {
     "name": "stderr",
     "output_type": "stream",
     "text": [
      "\r",
      "Scraping lazarnedkov: 51post [01:00,  2.20s/post]"
     ]
    },
    {
     "name": "stderr",
     "output_type": "stream",
     "text": [
      "\r",
      "Scraping lazarnedkov: 52post [01:01,  1.61s/post]"
     ]
    },
    {
     "name": "stderr",
     "output_type": "stream",
     "text": [
      "\r",
      "Scraping lazarnedkov: 53post [01:01,  1.22s/post]"
     ]
    },
    {
     "name": "stderr",
     "output_type": "stream",
     "text": [
      "\r",
      "Scraping lazarnedkov: 54post [01:01,  1.08post/s]"
     ]
    },
    {
     "name": "stderr",
     "output_type": "stream",
     "text": [
      "\r",
      "Scraping lazarnedkov: 55post [01:01,  1.38post/s]"
     ]
    },
    {
     "name": "stderr",
     "output_type": "stream",
     "text": [
      "\r",
      "Scraping lazarnedkov: 56post [01:02,  1.58post/s]"
     ]
    },
    {
     "name": "stderr",
     "output_type": "stream",
     "text": [
      "\r",
      "Scraping lazarnedkov: 57post [01:02,  1.95post/s]"
     ]
    },
    {
     "name": "stderr",
     "output_type": "stream",
     "text": [
      "\r",
      "Scraping lazarnedkov: 58post [01:02,  2.36post/s]"
     ]
    },
    {
     "name": "stderr",
     "output_type": "stream",
     "text": [
      "\r",
      "Scraping lazarnedkov: 59post [01:03,  2.68post/s]"
     ]
    },
    {
     "name": "stderr",
     "output_type": "stream",
     "text": [
      "\r",
      "Scraping lazarnedkov: 60post [01:03,  2.82post/s]"
     ]
    },
    {
     "name": "stderr",
     "output_type": "stream",
     "text": [
      "\r",
      "Scraping lazarnedkov: 61post [01:07,  1.59s/post]"
     ]
    },
    {
     "name": "stderr",
     "output_type": "stream",
     "text": [
      "\r",
      "Scraping lazarnedkov: 62post [01:08,  1.19s/post]"
     ]
    },
    {
     "name": "stderr",
     "output_type": "stream",
     "text": [
      "\r",
      "Scraping lazarnedkov: 63post [01:08,  1.12post/s]"
     ]
    },
    {
     "name": "stderr",
     "output_type": "stream",
     "text": [
      "\r",
      "Scraping lazarnedkov: 64post [01:08,  1.39post/s]"
     ]
    },
    {
     "name": "stderr",
     "output_type": "stream",
     "text": [
      "\r",
      "Scraping lazarnedkov: 65post [01:08,  1.75post/s]"
     ]
    },
    {
     "name": "stderr",
     "output_type": "stream",
     "text": [
      "\r",
      "Scraping lazarnedkov: 66post [01:09,  2.07post/s]"
     ]
    },
    {
     "name": "stderr",
     "output_type": "stream",
     "text": [
      "\r",
      "Scraping lazarnedkov: 67post [01:09,  2.32post/s]"
     ]
    },
    {
     "name": "stderr",
     "output_type": "stream",
     "text": [
      "\r",
      "Scraping lazarnedkov: 68post [01:09,  2.72post/s]"
     ]
    },
    {
     "name": "stderr",
     "output_type": "stream",
     "text": [
      "\r",
      "Scraping lazarnedkov: 69post [01:09,  3.09post/s]"
     ]
    },
    {
     "name": "stderr",
     "output_type": "stream",
     "text": [
      "\r",
      "Scraping lazarnedkov: 70post [01:10,  3.19post/s]"
     ]
    },
    {
     "name": "stderr",
     "output_type": "stream",
     "text": [
      "\r",
      "Scraping lazarnedkov: 71post [01:10,  3.22post/s]"
     ]
    },
    {
     "name": "stderr",
     "output_type": "stream",
     "text": [
      "\r",
      "Scraping lazarnedkov: 72post [01:10,  3.27post/s]"
     ]
    },
    {
     "name": "stderr",
     "output_type": "stream",
     "text": [
      "\r",
      "Scraping lazarnedkov: 73post [01:15,  1.67s/post]"
     ]
    },
    {
     "name": "stderr",
     "output_type": "stream",
     "text": [
      "\r",
      "Scraping lazarnedkov: 74post [01:15,  1.23s/post]"
     ]
    },
    {
     "name": "stderr",
     "output_type": "stream",
     "text": [
      "\r",
      "Scraping lazarnedkov: 75post [01:16,  1.03post/s]"
     ]
    },
    {
     "name": "stderr",
     "output_type": "stream",
     "text": [
      "\r",
      "Scraping lazarnedkov: 76post [01:16,  1.30post/s]"
     ]
    },
    {
     "name": "stderr",
     "output_type": "stream",
     "text": [
      "\r",
      "Scraping lazarnedkov: 77post [01:16,  1.58post/s]"
     ]
    },
    {
     "name": "stderr",
     "output_type": "stream",
     "text": [
      "\r",
      "Scraping lazarnedkov: 78post [01:17,  1.97post/s]"
     ]
    },
    {
     "name": "stderr",
     "output_type": "stream",
     "text": [
      "\r",
      "Scraping lazarnedkov: 79post [01:19,  1.19s/post]"
     ]
    },
    {
     "name": "stderr",
     "output_type": "stream",
     "text": [
      "\r",
      "Scraping lazarnedkov: 80post [01:20,  1.12post/s]"
     ]
    },
    {
     "name": "stderr",
     "output_type": "stream",
     "text": [
      "\r",
      "Scraping lazarnedkov: 81post [01:25,  2.28s/post]"
     ]
    },
    {
     "name": "stderr",
     "output_type": "stream",
     "text": [
      "\r",
      "Scraping lazarnedkov: 82post [01:25,  1.66s/post]"
     ]
    },
    {
     "name": "stderr",
     "output_type": "stream",
     "text": [
      "\r",
      "Scraping lazarnedkov: 83post [01:26,  1.23s/post]"
     ]
    },
    {
     "name": "stderr",
     "output_type": "stream",
     "text": [
      "\r",
      "Scraping lazarnedkov: 84post [01:26,  1.08post/s]"
     ]
    },
    {
     "name": "stderr",
     "output_type": "stream",
     "text": [
      "\r",
      "Scraping lazarnedkov: 85post [01:30,  1.89s/post]"
     ]
    },
    {
     "name": "stderr",
     "output_type": "stream",
     "text": [
      "\r",
      "Scraping lazarnedkov: 86post [01:30,  1.41s/post]"
     ]
    },
    {
     "name": "stderr",
     "output_type": "stream",
     "text": [
      "\r",
      "Scraping lazarnedkov: 87post [01:30,  1.08s/post]"
     ]
    },
    {
     "name": "stderr",
     "output_type": "stream",
     "text": [
      "\r",
      "Scraping lazarnedkov: 88post [01:34,  1.82s/post]"
     ]
    },
    {
     "name": "stderr",
     "output_type": "stream",
     "text": [
      "\r",
      "Scraping lazarnedkov: 89post [01:34,  1.34s/post]"
     ]
    },
    {
     "name": "stderr",
     "output_type": "stream",
     "text": [
      "\r",
      "Scraping lazarnedkov: 90post [01:34,  1.01s/post]"
     ]
    },
    {
     "name": "stderr",
     "output_type": "stream",
     "text": [
      "\r",
      "Scraping lazarnedkov: 91post [01:35,  1.30post/s]"
     ]
    },
    {
     "name": "stderr",
     "output_type": "stream",
     "text": [
      "\r",
      "Scraping lazarnedkov: 92post [01:38,  1.43s/post]"
     ]
    },
    {
     "name": "stderr",
     "output_type": "stream",
     "text": [
      "\r",
      "Scraping lazarnedkov: 93post [01:38,  1.07s/post]"
     ]
    },
    {
     "name": "stderr",
     "output_type": "stream",
     "text": [
      "\r",
      "Scraping lazarnedkov: 94post [01:38,  1.20post/s]"
     ]
    },
    {
     "name": "stderr",
     "output_type": "stream",
     "text": [
      "\r",
      "Scraping lazarnedkov: 95post [01:41,  1.44s/post]"
     ]
    },
    {
     "name": "stderr",
     "output_type": "stream",
     "text": [
      "\r",
      "Scraping lazarnedkov: 96post [01:41,  1.08s/post]"
     ]
    },
    {
     "name": "stderr",
     "output_type": "stream",
     "text": [
      "\r",
      "Scraping lazarnedkov: 97post [01:46,  2.14s/post]"
     ]
    },
    {
     "name": "stderr",
     "output_type": "stream",
     "text": [
      "\r",
      "Scraping lazarnedkov: 98post [01:46,  1.58s/post]"
     ]
    },
    {
     "name": "stderr",
     "output_type": "stream",
     "text": [
      "\r",
      "Scraping lazarnedkov: 99post [01:46,  1.17s/post]"
     ]
    },
    {
     "name": "stderr",
     "output_type": "stream",
     "text": [
      "\r",
      "Scraping lazarnedkov: 100post [01:47,  1.01post/s]"
     ]
    },
    {
     "name": "stderr",
     "output_type": "stream",
     "text": [
      "\r",
      "Scraping lazarnedkov: 101post [01:47,  1.30post/s]"
     ]
    },
    {
     "name": "stderr",
     "output_type": "stream",
     "text": [
      "\r",
      "Scraping lazarnedkov: 102post [01:52,  2.13s/post]"
     ]
    },
    {
     "name": "stderr",
     "output_type": "stream",
     "text": [
      "\r",
      "Scraping lazarnedkov: 103post [01:53,  1.60s/post]"
     ]
    },
    {
     "name": "stderr",
     "output_type": "stream",
     "text": [
      "\r",
      "Scraping lazarnedkov: 104post [01:53,  1.19s/post]"
     ]
    },
    {
     "name": "stderr",
     "output_type": "stream",
     "text": [
      "\r",
      "Scraping lazarnedkov: 105post [01:55,  1.53s/post]"
     ]
    },
    {
     "name": "stderr",
     "output_type": "stream",
     "text": [
      "\r",
      "Scraping lazarnedkov: 106post [01:56,  1.14s/post]"
     ]
    },
    {
     "name": "stderr",
     "output_type": "stream",
     "text": [
      "\r",
      "Scraping lazarnedkov: 107post [01:56,  1.12post/s]"
     ]
    },
    {
     "name": "stderr",
     "output_type": "stream",
     "text": [
      "\r",
      "Scraping lazarnedkov: 108post [01:56,  1.40post/s]"
     ]
    },
    {
     "name": "stderr",
     "output_type": "stream",
     "text": [
      "\r",
      "Scraping lazarnedkov: 109post [02:05,  3.18s/post]"
     ]
    },
    {
     "name": "stderr",
     "output_type": "stream",
     "text": [
      "\r",
      "Scraping lazarnedkov: 110post [02:05,  2.31s/post]"
     ]
    },
    {
     "name": "stderr",
     "output_type": "stream",
     "text": [
      "\r",
      "Scraping lazarnedkov: 111post [02:08,  2.42s/post]"
     ]
    },
    {
     "name": "stderr",
     "output_type": "stream",
     "text": [
      "\r",
      "Scraping lazarnedkov: 112post [02:08,  1.76s/post]"
     ]
    },
    {
     "name": "stderr",
     "output_type": "stream",
     "text": [
      "\r",
      "Scraping lazarnedkov: 113post [02:09,  1.33s/post]"
     ]
    },
    {
     "name": "stderr",
     "output_type": "stream",
     "text": [
      "\r",
      "Scraping lazarnedkov: 114post [02:09,  1.00post/s]"
     ]
    },
    {
     "name": "stderr",
     "output_type": "stream",
     "text": [
      "\r",
      "Scraping lazarnedkov: 115post [02:09,  1.31post/s]"
     ]
    },
    {
     "name": "stderr",
     "output_type": "stream",
     "text": [
      "\r",
      "Scraping lazarnedkov: 116post [02:09,  1.58post/s]"
     ]
    },
    {
     "name": "stderr",
     "output_type": "stream",
     "text": [
      "\r",
      "Scraping lazarnedkov: 117post [02:10,  1.86post/s]"
     ]
    },
    {
     "name": "stderr",
     "output_type": "stream",
     "text": [
      "\r",
      "Scraping lazarnedkov: 118post [02:10,  2.01post/s]"
     ]
    },
    {
     "name": "stderr",
     "output_type": "stream",
     "text": [
      "\r",
      "Scraping lazarnedkov: 119post [02:11,  2.27post/s]"
     ]
    },
    {
     "name": "stderr",
     "output_type": "stream",
     "text": [
      "\r",
      "Scraping lazarnedkov: 120post [02:11,  2.50post/s]"
     ]
    },
    {
     "name": "stderr",
     "output_type": "stream",
     "text": [
      "\r",
      "Scraping lazarnedkov: 121post [02:15,  1.53s/post]"
     ]
    },
    {
     "name": "stderr",
     "output_type": "stream",
     "text": [
      "\r",
      "Scraping lazarnedkov: 122post [02:15,  1.14s/post]"
     ]
    },
    {
     "name": "stderr",
     "output_type": "stream",
     "text": [
      "\r",
      "Scraping lazarnedkov: 123post [02:16,  1.05post/s]"
     ]
    },
    {
     "name": "stderr",
     "output_type": "stream",
     "text": [
      "\r",
      "Scraping lazarnedkov: 124post [02:18,  1.36s/post]"
     ]
    },
    {
     "name": "stderr",
     "output_type": "stream",
     "text": [
      "\r",
      "Scraping lazarnedkov: 125post [02:20,  1.47s/post]"
     ]
    },
    {
     "name": "stderr",
     "output_type": "stream",
     "text": [
      "\r",
      "Scraping lazarnedkov: 126post [02:20,  1.11s/post]"
     ]
    },
    {
     "name": "stderr",
     "output_type": "stream",
     "text": [
      "\r",
      "Scraping lazarnedkov: 127post [02:20,  1.18post/s]"
     ]
    },
    {
     "name": "stderr",
     "output_type": "stream",
     "text": [
      "\r",
      "Scraping lazarnedkov: 128post [02:20,  1.52post/s]"
     ]
    },
    {
     "name": "stderr",
     "output_type": "stream",
     "text": [
      "\r",
      "Scraping lazarnedkov: 129post [02:21,  1.87post/s]"
     ]
    },
    {
     "name": "stderr",
     "output_type": "stream",
     "text": [
      "\r",
      "Scraping lazarnedkov: 130post [02:21,  2.24post/s]"
     ]
    },
    {
     "name": "stderr",
     "output_type": "stream",
     "text": [
      "\r",
      "Scraping lazarnedkov: 131post [02:21,  2.30post/s]"
     ]
    },
    {
     "name": "stderr",
     "output_type": "stream",
     "text": [
      "\r",
      "Scraping lazarnedkov: 132post [02:22,  2.53post/s]"
     ]
    },
    {
     "name": "stderr",
     "output_type": "stream",
     "text": [
      "\r",
      "Scraping lazarnedkov: 133post [02:30,  2.92s/post]"
     ]
    },
    {
     "name": "stderr",
     "output_type": "stream",
     "text": [
      "\r",
      "Scraping lazarnedkov: 134post [02:31,  2.11s/post]"
     ]
    },
    {
     "name": "stderr",
     "output_type": "stream",
     "text": [
      "\r",
      "Scraping lazarnedkov: 135post [02:31,  1.55s/post]"
     ]
    },
    {
     "name": "stderr",
     "output_type": "stream",
     "text": [
      "\r",
      "Scraping lazarnedkov: 136post [02:31,  1.16s/post]"
     ]
    },
    {
     "name": "stderr",
     "output_type": "stream",
     "text": [
      "\r",
      "Scraping lazarnedkov: 137post [02:34,  1.52s/post]"
     ]
    },
    {
     "name": "stderr",
     "output_type": "stream",
     "text": [
      "\r",
      "Scraping lazarnedkov: 138post [02:34,  1.13s/post]"
     ]
    },
    {
     "name": "stderr",
     "output_type": "stream",
     "text": [
      "\r",
      "Scraping lazarnedkov: 139post [02:34,  1.13post/s]"
     ]
    },
    {
     "name": "stderr",
     "output_type": "stream",
     "text": [
      "\r",
      "Scraping lazarnedkov: 140post [02:34,  1.42post/s]"
     ]
    },
    {
     "name": "stderr",
     "output_type": "stream",
     "text": [
      "\r",
      "Scraping lazarnedkov: 141post [02:35,  1.79post/s]"
     ]
    },
    {
     "name": "stderr",
     "output_type": "stream",
     "text": [
      "\r",
      "Scraping lazarnedkov: 142post [02:35,  2.19post/s]"
     ]
    },
    {
     "name": "stderr",
     "output_type": "stream",
     "text": [
      "\r",
      "Scraping lazarnedkov: 143post [02:38,  1.40s/post]"
     ]
    },
    {
     "name": "stderr",
     "output_type": "stream",
     "text": [
      "\r",
      "Scraping lazarnedkov: 144post [02:39,  1.05s/post]"
     ]
    },
    {
     "name": "stderr",
     "output_type": "stream",
     "text": [
      "\r",
      "Scraping lazarnedkov: 145post [02:42,  1.77s/post]"
     ]
    },
    {
     "name": "stderr",
     "output_type": "stream",
     "text": [
      "\r",
      "Scraping lazarnedkov: 146post [02:42,  1.31s/post]"
     ]
    },
    {
     "name": "stderr",
     "output_type": "stream",
     "text": [
      "\r",
      "Scraping lazarnedkov: 147post [02:43,  1.01post/s]"
     ]
    },
    {
     "name": "stderr",
     "output_type": "stream",
     "text": [
      "\r",
      "Scraping lazarnedkov: 148post [02:43,  1.32post/s]"
     ]
    },
    {
     "name": "stderr",
     "output_type": "stream",
     "text": [
      "\r",
      "Scraping lazarnedkov: 149post [02:43,  1.62post/s]"
     ]
    },
    {
     "name": "stderr",
     "output_type": "stream",
     "text": [
      "\r",
      "Scraping lazarnedkov: 150post [02:43,  1.91post/s]"
     ]
    },
    {
     "name": "stderr",
     "output_type": "stream",
     "text": [
      "\r",
      "Scraping lazarnedkov: 151post [02:44,  2.18post/s]"
     ]
    },
    {
     "name": "stderr",
     "output_type": "stream",
     "text": [
      "\r",
      "Scraping lazarnedkov: 152post [02:44,  2.42post/s]"
     ]
    },
    {
     "name": "stderr",
     "output_type": "stream",
     "text": [
      "\r",
      "Scraping lazarnedkov: 153post [02:44,  2.82post/s]"
     ]
    },
    {
     "name": "stderr",
     "output_type": "stream",
     "text": [
      "\r",
      "Scraping lazarnedkov: 154post [02:45,  2.95post/s]"
     ]
    },
    {
     "name": "stderr",
     "output_type": "stream",
     "text": [
      "\r",
      "Scraping lazarnedkov: 155post [02:49,  1.55s/post]"
     ]
    },
    {
     "name": "stderr",
     "output_type": "stream",
     "text": [
      "\r",
      "Scraping lazarnedkov: 156post [02:49,  1.15s/post]"
     ]
    },
    {
     "name": "stderr",
     "output_type": "stream",
     "text": [
      "\r",
      "Scraping lazarnedkov: 157post [02:55,  2.46s/post]"
     ]
    },
    {
     "name": "stderr",
     "output_type": "stream",
     "text": [
      "\r",
      "Scraping lazarnedkov: 158post [02:55,  1.82s/post]"
     ]
    },
    {
     "name": "stderr",
     "output_type": "stream",
     "text": [
      "\r",
      "Scraping lazarnedkov: 159post [02:57,  2.04s/post]"
     ]
    },
    {
     "name": "stderr",
     "output_type": "stream",
     "text": [
      "\r",
      "Scraping lazarnedkov: 160post [02:58,  1.49s/post]"
     ]
    },
    {
     "name": "stderr",
     "output_type": "stream",
     "text": [
      "\r",
      "Scraping lazarnedkov: 161post [02:58,  1.14s/post]"
     ]
    },
    {
     "name": "stderr",
     "output_type": "stream",
     "text": [
      "\r",
      "Scraping lazarnedkov: 162post [02:58,  1.13post/s]"
     ]
    },
    {
     "name": "stderr",
     "output_type": "stream",
     "text": [
      "\r",
      "Scraping lazarnedkov: 163post [02:59,  1.40post/s]"
     ]
    },
    {
     "name": "stderr",
     "output_type": "stream",
     "text": [
      "\r",
      "Scraping lazarnedkov: 164post [02:59,  1.77post/s]"
     ]
    },
    {
     "name": "stderr",
     "output_type": "stream",
     "text": [
      "\r",
      "Scraping lazarnedkov: 165post [02:59,  2.07post/s]"
     ]
    },
    {
     "name": "stderr",
     "output_type": "stream",
     "text": [
      "\r",
      "Scraping lazarnedkov: 166post [02:59,  2.47post/s]"
     ]
    },
    {
     "name": "stderr",
     "output_type": "stream",
     "text": [
      "\r",
      "Scraping lazarnedkov: 167post [03:00,  2.69post/s]"
     ]
    },
    {
     "name": "stderr",
     "output_type": "stream",
     "text": [
      "\r",
      "Scraping lazarnedkov: 168post [03:00,  2.84post/s]"
     ]
    },
    {
     "name": "stderr",
     "output_type": "stream",
     "text": [
      "\r",
      "Scraping lazarnedkov: 169post [03:08,  2.59s/post]"
     ]
    },
    {
     "name": "stderr",
     "output_type": "stream",
     "text": [
      "\r",
      "Scraping lazarnedkov: 170post [03:08,  1.88s/post]"
     ]
    },
    {
     "name": "stderr",
     "output_type": "stream",
     "text": [
      "\r",
      "Scraping lazarnedkov: 171post [03:08,  1.38s/post]"
     ]
    },
    {
     "name": "stderr",
     "output_type": "stream",
     "text": [
      "\r",
      "Scraping lazarnedkov: 172post [03:08,  1.04s/post]"
     ]
    },
    {
     "name": "stderr",
     "output_type": "stream",
     "text": [
      "\r",
      "Scraping lazarnedkov: 173post [03:11,  1.64s/post]"
     ]
    },
    {
     "name": "stderr",
     "output_type": "stream",
     "text": [
      "\r",
      "Scraping lazarnedkov: 174post [03:12,  1.22s/post]"
     ]
    },
    {
     "name": "stderr",
     "output_type": "stream",
     "text": [
      "\r",
      "Scraping lazarnedkov: 175post [03:19,  3.04s/post]"
     ]
    },
    {
     "name": "stderr",
     "output_type": "stream",
     "text": [
      "\r",
      "Scraping lazarnedkov: 176post [03:19,  2.19s/post]"
     ]
    },
    {
     "name": "stderr",
     "output_type": "stream",
     "text": [
      "\r",
      "Scraping lazarnedkov: 177post [03:20,  1.62s/post]"
     ]
    },
    {
     "name": "stderr",
     "output_type": "stream",
     "text": [
      "\r",
      "Scraping lazarnedkov: 178post [03:20,  1.20s/post]"
     ]
    },
    {
     "name": "stderr",
     "output_type": "stream",
     "text": [
      "\r",
      "Scraping lazarnedkov: 179post [03:20,  1.11post/s]"
     ]
    },
    {
     "name": "stderr",
     "output_type": "stream",
     "text": [
      "\r",
      "Scraping lazarnedkov: 180post [03:20,  1.39post/s]"
     ]
    },
    {
     "name": "stderr",
     "output_type": "stream",
     "text": [
      "\r",
      "Scraping lazarnedkov: 181post [03:25,  2.01s/post]"
     ]
    },
    {
     "name": "stderr",
     "output_type": "stream",
     "text": [
      "\r",
      "Scraping lazarnedkov: 182post [03:26,  1.50s/post]"
     ]
    },
    {
     "name": "stderr",
     "output_type": "stream",
     "text": [
      "\r",
      "Scraping lazarnedkov: 183post [03:26,  1.13s/post]"
     ]
    },
    {
     "name": "stderr",
     "output_type": "stream",
     "text": [
      "\r",
      "Scraping lazarnedkov: 184post [03:26,  1.16post/s]"
     ]
    },
    {
     "name": "stderr",
     "output_type": "stream",
     "text": [
      "\r",
      "Scraping lazarnedkov: 185post [03:26,  1.50post/s]"
     ]
    },
    {
     "name": "stderr",
     "output_type": "stream",
     "text": [
      "\r",
      "Scraping lazarnedkov: 186post [03:27,  1.88post/s]"
     ]
    },
    {
     "name": "stderr",
     "output_type": "stream",
     "text": [
      "\r",
      "Scraping lazarnedkov: 187post [03:27,  2.18post/s]"
     ]
    },
    {
     "name": "stderr",
     "output_type": "stream",
     "text": [
      "\r",
      "Scraping lazarnedkov: 188post [03:27,  2.41post/s]"
     ]
    },
    {
     "name": "stderr",
     "output_type": "stream",
     "text": [
      "\r",
      "Scraping lazarnedkov: 189post [03:27,  2.62post/s]"
     ]
    },
    {
     "name": "stderr",
     "output_type": "stream",
     "text": [
      "\r",
      "Scraping lazarnedkov: 190post [03:28,  3.00post/s]"
     ]
    },
    {
     "name": "stderr",
     "output_type": "stream",
     "text": [
      "\r",
      "Scraping lazarnedkov: 191post [03:28,  3.11post/s]"
     ]
    },
    {
     "name": "stderr",
     "output_type": "stream",
     "text": [
      "\r",
      "Scraping lazarnedkov: 192post [03:28,  3.15post/s]"
     ]
    },
    {
     "name": "stderr",
     "output_type": "stream",
     "text": [
      "\r",
      "Scraping lazarnedkov: 193post [03:37,  3.00s/post]"
     ]
    },
    {
     "name": "stderr",
     "output_type": "stream",
     "text": [
      "\r",
      "Scraping lazarnedkov: 194post [03:40,  2.92s/post]"
     ]
    },
    {
     "name": "stderr",
     "output_type": "stream",
     "text": [
      "\r",
      "Scraping lazarnedkov: 195post [03:40,  2.11s/post]"
     ]
    },
    {
     "name": "stderr",
     "output_type": "stream",
     "text": [
      "\r",
      "Scraping lazarnedkov: 196post [03:41,  1.54s/post]"
     ]
    },
    {
     "name": "stderr",
     "output_type": "stream",
     "text": [
      "\r",
      "Scraping lazarnedkov: 197post [03:41,  1.19s/post]"
     ]
    },
    {
     "name": "stderr",
     "output_type": "stream",
     "text": [
      "\r",
      "Scraping lazarnedkov: 198post [03:41,  1.08post/s]"
     ]
    },
    {
     "name": "stderr",
     "output_type": "stream",
     "text": [
      "\r",
      "Scraping lazarnedkov: 199post [03:42,  1.40post/s]"
     ]
    },
    {
     "name": "stderr",
     "output_type": "stream",
     "text": [
      "\r",
      "Scraping lazarnedkov: 200post [03:42,  1.69post/s]"
     ]
    },
    {
     "name": "stderr",
     "output_type": "stream",
     "text": [
      "\r",
      "Scraping lazarnedkov: 201post [03:42,  1.99post/s]"
     ]
    },
    {
     "name": "stderr",
     "output_type": "stream",
     "text": [
      "\r",
      "Scraping lazarnedkov: 202post [03:42,  2.25post/s]"
     ]
    },
    {
     "name": "stderr",
     "output_type": "stream",
     "text": [
      "\r",
      "Scraping lazarnedkov: 203post [03:43,  2.31post/s]"
     ]
    },
    {
     "name": "stderr",
     "output_type": "stream",
     "text": [
      "\r",
      "Scraping lazarnedkov: 204post [03:43,  2.49post/s]"
     ]
    },
    {
     "name": "stderr",
     "output_type": "stream",
     "text": [
      "\r",
      "Scraping lazarnedkov: 205post [03:47,  1.42s/post]"
     ]
    },
    {
     "name": "stderr",
     "output_type": "stream",
     "text": [
      "\r",
      "Scraping lazarnedkov: 206post [03:47,  1.06s/post]"
     ]
    },
    {
     "name": "stderr",
     "output_type": "stream",
     "text": [
      "\r",
      "Scraping lazarnedkov: 207post [03:47,  1.22post/s]"
     ]
    },
    {
     "name": "stderr",
     "output_type": "stream",
     "text": [
      "\r",
      "Scraping lazarnedkov: 208post [03:48,  1.55post/s]"
     ]
    },
    {
     "name": "stderr",
     "output_type": "stream",
     "text": [
      "\r",
      "Scraping lazarnedkov: 209post [03:48,  1.77post/s]"
     ]
    },
    {
     "name": "stderr",
     "output_type": "stream",
     "text": [
      "\r",
      "Scraping lazarnedkov: 210post [03:48,  2.05post/s]"
     ]
    },
    {
     "name": "stderr",
     "output_type": "stream",
     "text": [
      "\r",
      "Scraping lazarnedkov: 211post [03:49,  2.31post/s]"
     ]
    },
    {
     "name": "stderr",
     "output_type": "stream",
     "text": [
      "\r",
      "Scraping lazarnedkov: 212post [03:49,  2.70post/s]"
     ]
    },
    {
     "name": "stderr",
     "output_type": "stream",
     "text": [
      "\r",
      "Scraping lazarnedkov: 213post [03:49,  2.89post/s]"
     ]
    },
    {
     "name": "stderr",
     "output_type": "stream",
     "text": [
      "\r",
      "Scraping lazarnedkov: 214post [03:50,  2.27post/s]"
     ]
    },
    {
     "name": "stderr",
     "output_type": "stream",
     "text": [
      "\r",
      "Scraping lazarnedkov: 215post [03:50,  2.65post/s]"
     ]
    },
    {
     "name": "stderr",
     "output_type": "stream",
     "text": [
      "\r",
      "Scraping lazarnedkov: 216post [03:50,  2.98post/s]"
     ]
    },
    {
     "name": "stderr",
     "output_type": "stream",
     "text": [
      "\r",
      "Scraping lazarnedkov: 217post [03:55,  1.77s/post]"
     ]
    },
    {
     "name": "stderr",
     "output_type": "stream",
     "text": [
      "\r",
      "Scraping lazarnedkov: 218post [03:56,  1.33s/post]"
     ]
    },
    {
     "name": "stderr",
     "output_type": "stream",
     "text": [
      "\r",
      "Scraping lazarnedkov: 219post [03:56,  1.02s/post]"
     ]
    },
    {
     "name": "stderr",
     "output_type": "stream",
     "text": [
      "\r",
      "Scraping lazarnedkov: 220post [03:57,  1.17post/s]"
     ]
    },
    {
     "name": "stderr",
     "output_type": "stream",
     "text": [
      "\r",
      "Scraping lazarnedkov: 221post [03:57,  1.41post/s]"
     ]
    },
    {
     "name": "stderr",
     "output_type": "stream",
     "text": [
      "\r",
      "Scraping lazarnedkov: 222post [03:57,  1.78post/s]"
     ]
    },
    {
     "name": "stderr",
     "output_type": "stream",
     "text": [
      "\r",
      "Scraping lazarnedkov: 223post [03:57,  2.17post/s]"
     ]
    },
    {
     "name": "stderr",
     "output_type": "stream",
     "text": [
      "\r",
      "Scraping lazarnedkov: 224post [03:58,  2.51post/s]"
     ]
    },
    {
     "name": "stderr",
     "output_type": "stream",
     "text": [
      "\r",
      "Scraping lazarnedkov: 225post [03:58,  2.67post/s]"
     ]
    },
    {
     "name": "stderr",
     "output_type": "stream",
     "text": [
      "\r",
      "Scraping lazarnedkov: 226post [03:58,  2.82post/s]"
     ]
    },
    {
     "name": "stderr",
     "output_type": "stream",
     "text": [
      "\r",
      "Scraping lazarnedkov: 227post [03:59,  2.93post/s]"
     ]
    },
    {
     "name": "stderr",
     "output_type": "stream",
     "text": [
      "\r",
      "Scraping lazarnedkov: 228post [03:59,  3.02post/s]"
     ]
    },
    {
     "name": "stderr",
     "output_type": "stream",
     "text": [
      "\r",
      "Scraping lazarnedkov: 229post [04:06,  2.32s/post]"
     ]
    },
    {
     "name": "stderr",
     "output_type": "stream",
     "text": [
      "\r",
      "Scraping lazarnedkov: 230post [04:06,  1.69s/post]"
     ]
    },
    {
     "name": "stderr",
     "output_type": "stream",
     "text": [
      "\r",
      "Scraping lazarnedkov: 231post [04:06,  1.25s/post]"
     ]
    },
    {
     "name": "stderr",
     "output_type": "stream",
     "text": [
      "\r",
      "Scraping lazarnedkov: 232post [04:06,  1.06post/s]"
     ]
    },
    {
     "name": "stderr",
     "output_type": "stream",
     "text": [
      "\r",
      "Scraping lazarnedkov: 233post [04:09,  1.29s/post]"
     ]
    },
    {
     "name": "stderr",
     "output_type": "stream",
     "text": [
      "\r",
      "Scraping lazarnedkov: 234post [04:09,  1.03post/s]"
     ]
    },
    {
     "name": "stderr",
     "output_type": "stream",
     "text": [
      "\r",
      "Scraping lazarnedkov: 235post [04:11,  1.32s/post]"
     ]
    },
    {
     "name": "stderr",
     "output_type": "stream",
     "text": [
      "\r",
      "Scraping lazarnedkov: 236post [04:11,  1.01post/s]"
     ]
    },
    {
     "name": "stderr",
     "output_type": "stream",
     "text": [
      "\r",
      "Scraping lazarnedkov: 237post [04:11,  1.29post/s]"
     ]
    },
    {
     "name": "stderr",
     "output_type": "stream",
     "text": [
      "\r",
      "Scraping lazarnedkov: 238post [04:12,  1.57post/s]"
     ]
    },
    {
     "name": "stderr",
     "output_type": "stream",
     "text": [
      "\r",
      "Scraping lazarnedkov: 239post [04:12,  1.84post/s]"
     ]
    },
    {
     "name": "stderr",
     "output_type": "stream",
     "text": [
      "\r",
      "Scraping lazarnedkov: 240post [04:12,  2.24post/s]"
     ]
    },
    {
     "name": "stderr",
     "output_type": "stream",
     "text": [
      "\r",
      "Scraping lazarnedkov: 241post [04:15,  1.26s/post]"
     ]
    },
    {
     "name": "stderr",
     "output_type": "stream",
     "text": [
      "\r",
      "Scraping lazarnedkov: 242post [04:16,  1.05post/s]"
     ]
    },
    {
     "name": "stderr",
     "output_type": "stream",
     "text": [
      "\r",
      "Scraping lazarnedkov: 243post [04:16,  1.34post/s]"
     ]
    },
    {
     "name": "stderr",
     "output_type": "stream",
     "text": [
      "\r",
      "Scraping lazarnedkov: 244post [04:16,  1.61post/s]"
     ]
    },
    {
     "name": "stderr",
     "output_type": "stream",
     "text": [
      "\r",
      "Scraping lazarnedkov: 245post [04:17,  2.00post/s]"
     ]
    },
    {
     "name": "stderr",
     "output_type": "stream",
     "text": [
      "\r",
      "Scraping lazarnedkov: 246post [04:22,  1.88s/post]"
     ]
    },
    {
     "name": "stderr",
     "output_type": "stream",
     "text": [
      "\r",
      "Scraping lazarnedkov: 247post [04:22,  1.38s/post]"
     ]
    },
    {
     "name": "stderr",
     "output_type": "stream",
     "text": [
      "\r",
      "Scraping lazarnedkov: 248post [04:22,  1.05s/post]"
     ]
    },
    {
     "name": "stderr",
     "output_type": "stream",
     "text": [
      "\r",
      "Scraping lazarnedkov: 249post [04:27,  2.19s/post]"
     ]
    },
    {
     "name": "stderr",
     "output_type": "stream",
     "text": [
      "\r",
      "Scraping lazarnedkov: 250post [04:27,  1.60s/post]"
     ]
    },
    {
     "name": "stderr",
     "output_type": "stream",
     "text": [
      "\r",
      "Scraping lazarnedkov: 251post [04:27,  1.20s/post]"
     ]
    },
    {
     "name": "stderr",
     "output_type": "stream",
     "text": [
      "\r",
      "Scraping lazarnedkov: 252post [04:28,  1.07post/s]"
     ]
    },
    {
     "name": "stderr",
     "output_type": "stream",
     "text": [
      "\r",
      "Scraping lazarnedkov: 253post [04:34,  2.55s/post]"
     ]
    },
    {
     "name": "stderr",
     "output_type": "stream",
     "text": [
      "\r",
      "Scraping lazarnedkov: 254post [04:34,  1.85s/post]"
     ]
    },
    {
     "name": "stderr",
     "output_type": "stream",
     "text": [
      "\r",
      "Scraping lazarnedkov: 255post [04:35,  1.39s/post]"
     ]
    },
    {
     "name": "stderr",
     "output_type": "stream",
     "text": [
      "\r",
      "Scraping lazarnedkov: 256post [04:35,  1.07s/post]"
     ]
    },
    {
     "name": "stderr",
     "output_type": "stream",
     "text": [
      "\r",
      "Scraping lazarnedkov: 257post [04:35,  1.19post/s]"
     ]
    },
    {
     "name": "stderr",
     "output_type": "stream",
     "text": [
      "\r",
      "Scraping lazarnedkov: 258post [04:40,  2.14s/post]"
     ]
    },
    {
     "name": "stderr",
     "output_type": "stream",
     "text": [
      "\r",
      "Scraping lazarnedkov: 259post [04:46,  3.05s/post]"
     ]
    },
    {
     "name": "stderr",
     "output_type": "stream",
     "text": [
      "\r",
      "Scraping lazarnedkov: 260post [04:46,  2.32s/post]"
     ]
    },
    {
     "name": "stderr",
     "output_type": "stream",
     "text": [
      "\r",
      "Scraping lazarnedkov: 261post [04:46,  1.69s/post]"
     ]
    },
    {
     "name": "stderr",
     "output_type": "stream",
     "text": [
      "\r",
      "Scraping lazarnedkov: 262post [04:47,  1.25s/post]"
     ]
    },
    {
     "name": "stderr",
     "output_type": "stream",
     "text": [
      "\r",
      "Scraping lazarnedkov: 263post [04:47,  1.02post/s]"
     ]
    },
    {
     "name": "stderr",
     "output_type": "stream",
     "text": [
      "\r",
      "Scraping lazarnedkov: 264post [04:47,  1.28post/s]"
     ]
    },
    {
     "name": "stderr",
     "output_type": "stream",
     "text": [
      "\r",
      "Scraping lazarnedkov: 265post [04:54,  2.42s/post]"
     ]
    },
    {
     "name": "stderr",
     "output_type": "stream",
     "text": [
      "\r",
      "Scraping lazarnedkov: 266post [04:54,  1.78s/post]"
     ]
    },
    {
     "name": "stderr",
     "output_type": "stream",
     "text": [
      "\r",
      "Scraping lazarnedkov: 267post [04:54,  1.34s/post]"
     ]
    },
    {
     "name": "stderr",
     "output_type": "stream",
     "text": [
      "\r",
      "Scraping lazarnedkov: 268post [04:58,  2.14s/post]"
     ]
    },
    {
     "name": "stderr",
     "output_type": "stream",
     "text": [
      "\r",
      "Scraping lazarnedkov: 269post [04:58,  1.59s/post]"
     ]
    },
    {
     "name": "stderr",
     "output_type": "stream",
     "text": [
      "\r",
      "Scraping lazarnedkov: 270post [04:59,  1.18s/post]"
     ]
    },
    {
     "name": "stderr",
     "output_type": "stream",
     "text": [
      "\r",
      "Scraping lazarnedkov: 271post [04:59,  1.10post/s]"
     ]
    },
    {
     "name": "stderr",
     "output_type": "stream",
     "text": [
      "\r",
      "Scraping lazarnedkov: 272post [04:59,  1.37post/s]"
     ]
    },
    {
     "name": "stderr",
     "output_type": "stream",
     "text": [
      "\r",
      "Scraping lazarnedkov: 273post [05:00,  1.68post/s]"
     ]
    },
    {
     "name": "stderr",
     "output_type": "stream",
     "text": [
      "\r",
      "Scraping lazarnedkov: 274post [05:00,  2.02post/s]"
     ]
    },
    {
     "name": "stderr",
     "output_type": "stream",
     "text": [
      "\r",
      "Scraping lazarnedkov: 275post [05:00,  2.28post/s]"
     ]
    },
    {
     "name": "stderr",
     "output_type": "stream",
     "text": [
      "\r",
      "Scraping lazarnedkov: 276post [05:00,  2.37post/s]"
     ]
    },
    {
     "name": "stderr",
     "output_type": "stream",
     "text": [
      "\r",
      "Scraping lazarnedkov: 277post [05:05,  1.52s/post]"
     ]
    },
    {
     "name": "stderr",
     "output_type": "stream",
     "text": [
      "\r",
      "Scraping lazarnedkov: 278post [05:05,  1.13s/post]"
     ]
    },
    {
     "name": "stderr",
     "output_type": "stream",
     "text": [
      "\r",
      "Scraping lazarnedkov: 279post [05:05,  1.14post/s]"
     ]
    },
    {
     "name": "stderr",
     "output_type": "stream",
     "text": [
      "\r",
      "Scraping lazarnedkov: 280post [05:10,  2.12s/post]"
     ]
    },
    {
     "name": "stderr",
     "output_type": "stream",
     "text": [
      "\r",
      "Scraping lazarnedkov: 281post [05:10,  1.58s/post]"
     ]
    },
    {
     "name": "stderr",
     "output_type": "stream",
     "text": [
      "\r",
      "Scraping lazarnedkov: 282post [05:11,  1.20s/post]"
     ]
    },
    {
     "name": "stderr",
     "output_type": "stream",
     "text": [
      "\r",
      "Scraping lazarnedkov: 283post [05:11,  1.11post/s]"
     ]
    },
    {
     "name": "stderr",
     "output_type": "stream",
     "text": [
      "\r",
      "Scraping lazarnedkov: 284post [05:11,  1.39post/s]"
     ]
    },
    {
     "name": "stderr",
     "output_type": "stream",
     "text": [
      "\r",
      "Scraping lazarnedkov: 285post [05:12,  1.67post/s]"
     ]
    },
    {
     "name": "stderr",
     "output_type": "stream",
     "text": [
      "\r",
      "Scraping lazarnedkov: 286post [05:12,  1.97post/s]"
     ]
    },
    {
     "name": "stderr",
     "output_type": "stream",
     "text": [
      "\r",
      "Scraping lazarnedkov: 287post [05:12,  2.09post/s]"
     ]
    },
    {
     "name": "stderr",
     "output_type": "stream",
     "text": [
      "\r",
      "Scraping lazarnedkov: 288post [05:12,  2.49post/s]"
     ]
    },
    {
     "name": "stderr",
     "output_type": "stream",
     "text": [
      "\r",
      "Scraping lazarnedkov: 289post [05:17,  1.72s/post]"
     ]
    },
    {
     "name": "stderr",
     "output_type": "stream",
     "text": [
      "\r",
      "Scraping lazarnedkov: 290post [05:18,  1.27s/post]"
     ]
    },
    {
     "name": "stderr",
     "output_type": "stream",
     "text": [
      "\r",
      "Scraping lazarnedkov: 291post [05:18,  1.01s/post]"
     ]
    },
    {
     "name": "stderr",
     "output_type": "stream",
     "text": [
      "\r",
      "Scraping lazarnedkov: 292post [05:18,  1.21post/s]"
     ]
    },
    {
     "name": "stderr",
     "output_type": "stream",
     "text": [
      "\r",
      "Scraping lazarnedkov: 293post [05:19,  1.49post/s]"
     ]
    },
    {
     "name": "stderr",
     "output_type": "stream",
     "text": [
      "\r",
      "Scraping lazarnedkov: 294post [05:19,  1.78post/s]"
     ]
    },
    {
     "name": "stderr",
     "output_type": "stream",
     "text": [
      "\r",
      "Scraping lazarnedkov: 295post [05:19,  2.18post/s]"
     ]
    },
    {
     "name": "stderr",
     "output_type": "stream",
     "text": [
      "\r",
      "Scraping lazarnedkov: 296post [05:19,  2.58post/s]"
     ]
    },
    {
     "name": "stderr",
     "output_type": "stream",
     "text": [
      "\r",
      "Scraping lazarnedkov: 297post [05:20,  2.96post/s]"
     ]
    },
    {
     "name": "stderr",
     "output_type": "stream",
     "text": [
      "\r",
      "Scraping lazarnedkov: 298post [05:20,  3.31post/s]"
     ]
    },
    {
     "name": "stderr",
     "output_type": "stream",
     "text": [
      "\r",
      "Scraping lazarnedkov: 299post [05:20,  3.61post/s]"
     ]
    },
    {
     "name": "stderr",
     "output_type": "stream",
     "text": [
      "\r",
      "Scraping lazarnedkov: 300post [05:20,  3.86post/s]"
     ]
    },
    {
     "name": "stderr",
     "output_type": "stream",
     "text": [
      "\r",
      "Scraping lazarnedkov: 301post [05:33,  3.91s/post]"
     ]
    },
    {
     "name": "stderr",
     "output_type": "stream",
     "text": [
      "\r",
      "Scraping lazarnedkov: 302post [05:33,  2.80s/post]"
     ]
    },
    {
     "name": "stderr",
     "output_type": "stream",
     "text": [
      "\r",
      "Scraping lazarnedkov: 303post [05:33,  2.03s/post]"
     ]
    },
    {
     "name": "stderr",
     "output_type": "stream",
     "text": [
      "\r",
      "Scraping lazarnedkov: 304post [05:33,  1.50s/post]"
     ]
    },
    {
     "name": "stderr",
     "output_type": "stream",
     "text": [
      "\r",
      "Scraping lazarnedkov: 305post [05:34,  1.12s/post]"
     ]
    },
    {
     "name": "stderr",
     "output_type": "stream",
     "text": [
      "\r",
      "Scraping lazarnedkov: 306post [05:34,  1.18post/s]"
     ]
    },
    {
     "name": "stderr",
     "output_type": "stream",
     "text": [
      "\r",
      "Scraping lazarnedkov: 307post [05:34,  1.52post/s]"
     ]
    },
    {
     "name": "stderr",
     "output_type": "stream",
     "text": [
      "\r",
      "Scraping lazarnedkov: 308post [05:34,  1.85post/s]"
     ]
    },
    {
     "name": "stderr",
     "output_type": "stream",
     "text": [
      "\r",
      "Scraping lazarnedkov: 309post [05:35,  2.24post/s]"
     ]
    },
    {
     "name": "stderr",
     "output_type": "stream",
     "text": [
      "\r",
      "Scraping lazarnedkov: 310post [05:35,  2.08post/s]"
     ]
    },
    {
     "name": "stderr",
     "output_type": "stream",
     "text": [
      "\r",
      "Scraping lazarnedkov: 311post [05:35,  2.47post/s]"
     ]
    },
    {
     "name": "stderr",
     "output_type": "stream",
     "text": [
      "\r",
      "Scraping lazarnedkov: 312post [05:36,  2.74post/s]"
     ]
    },
    {
     "name": "stderr",
     "output_type": "stream",
     "text": [
      "\r",
      "Scraping lazarnedkov: 313post [05:43,  2.49s/post]"
     ]
    },
    {
     "name": "stderr",
     "output_type": "stream",
     "text": [
      "\r",
      "Scraping lazarnedkov: 314post [05:43,  1.81s/post]"
     ]
    },
    {
     "name": "stderr",
     "output_type": "stream",
     "text": [
      "\r",
      "Scraping lazarnedkov: 315post [05:44,  1.35s/post]"
     ]
    },
    {
     "name": "stderr",
     "output_type": "stream",
     "text": [
      "\r",
      "Scraping lazarnedkov: 316post [05:44,  1.02s/post]"
     ]
    },
    {
     "name": "stderr",
     "output_type": "stream",
     "text": [
      "\r",
      "Scraping lazarnedkov: 317post [05:44,  1.28post/s]"
     ]
    },
    {
     "name": "stderr",
     "output_type": "stream",
     "text": [
      "\r",
      "Scraping lazarnedkov: 318post [05:44,  1.59post/s]"
     ]
    },
    {
     "name": "stderr",
     "output_type": "stream",
     "text": [
      "\r",
      "Scraping lazarnedkov: 319post [05:45,  1.97post/s]"
     ]
    },
    {
     "name": "stderr",
     "output_type": "stream",
     "text": [
      "\r",
      "Scraping lazarnedkov: 320post [05:45,  1.88post/s]"
     ]
    },
    {
     "name": "stderr",
     "output_type": "stream",
     "text": [
      "\r",
      "Scraping lazarnedkov: 321post [05:45,  2.27post/s]"
     ]
    },
    {
     "name": "stderr",
     "output_type": "stream",
     "text": [
      "\r",
      "Scraping lazarnedkov: 322post [05:46,  2.66post/s]"
     ]
    },
    {
     "name": "stderr",
     "output_type": "stream",
     "text": [
      "\r",
      "Scraping lazarnedkov: 323post [05:46,  3.04post/s]"
     ]
    },
    {
     "name": "stderr",
     "output_type": "stream",
     "text": [
      "\r",
      "Scraping lazarnedkov: 324post [05:46,  3.38post/s]"
     ]
    },
    {
     "name": "stderr",
     "output_type": "stream",
     "text": [
      "\r",
      "Scraping lazarnedkov: 325post [10:47, 90.56s/post]"
     ]
    },
    {
     "name": "stderr",
     "output_type": "stream",
     "text": [
      "\r",
      "Scraping lazarnedkov: 326post [10:47, 63.49s/post]"
     ]
    },
    {
     "name": "stderr",
     "output_type": "stream",
     "text": [
      "\r",
      "Scraping lazarnedkov: 327post [10:55, 46.57s/post]"
     ]
    },
    {
     "name": "stderr",
     "output_type": "stream",
     "text": [
      "\r",
      "Scraping lazarnedkov: 328post [10:55, 32.69s/post]"
     ]
    },
    {
     "name": "stderr",
     "output_type": "stream",
     "text": [
      "\r",
      "Scraping lazarnedkov: 329post [10:57, 23.65s/post]"
     ]
    },
    {
     "name": "stderr",
     "output_type": "stream",
     "text": [
      "\r",
      "Scraping lazarnedkov: 330post [10:58, 16.62s/post]"
     ]
    },
    {
     "name": "stderr",
     "output_type": "stream",
     "text": [
      "\r",
      "Scraping lazarnedkov: 331post [11:01, 12.62s/post]"
     ]
    },
    {
     "name": "stderr",
     "output_type": "stream",
     "text": [
      "\r",
      "Scraping lazarnedkov: 332post [11:01,  8.90s/post]"
     ]
    },
    {
     "name": "stderr",
     "output_type": "stream",
     "text": [
      "\r",
      "Scraping lazarnedkov: 333post [11:05,  7.26s/post]"
     ]
    },
    {
     "name": "stderr",
     "output_type": "stream",
     "text": [
      "\r",
      "Scraping lazarnedkov: 334post [11:05,  5.14s/post]"
     ]
    },
    {
     "name": "stderr",
     "output_type": "stream",
     "text": [
      "\r",
      "Scraping lazarnedkov: 335post [11:05,  3.67s/post]"
     ]
    },
    {
     "name": "stderr",
     "output_type": "stream",
     "text": [
      "\r",
      "Scraping lazarnedkov: 336post [11:12,  4.69s/post]"
     ]
    },
    {
     "name": "stderr",
     "output_type": "stream",
     "text": [
      "\r",
      "Scraping lazarnedkov: 337post [11:18,  5.18s/post]"
     ]
    },
    {
     "name": "stderr",
     "output_type": "stream",
     "text": [
      "\r",
      "Scraping lazarnedkov: 338post [11:19,  3.69s/post]"
     ]
    },
    {
     "name": "stderr",
     "output_type": "stream",
     "text": [
      "\r",
      "Scraping lazarnedkov: 339post [11:19,  2.66s/post]"
     ]
    },
    {
     "name": "stderr",
     "output_type": "stream",
     "text": [
      "\r",
      "Scraping lazarnedkov: 340post [11:22,  2.84s/post]"
     ]
    },
    {
     "name": "stderr",
     "output_type": "stream",
     "text": [
      "\r",
      "Scraping lazarnedkov: 341post [11:22,  2.05s/post]"
     ]
    },
    {
     "name": "stderr",
     "output_type": "stream",
     "text": [
      "\r",
      "Scraping lazarnedkov: 342post [11:24,  2.00s/post]"
     ]
    },
    {
     "name": "stderr",
     "output_type": "stream",
     "text": [
      "\r",
      "Scraping lazarnedkov: 343post [11:24,  1.47s/post]"
     ]
    },
    {
     "name": "stderr",
     "output_type": "stream",
     "text": [
      "\r",
      "Scraping lazarnedkov: 344post [11:25,  1.09s/post]"
     ]
    },
    {
     "name": "stderr",
     "output_type": "stream",
     "text": [
      "\r",
      "Scraping lazarnedkov: 345post [11:27,  1.59s/post]"
     ]
    },
    {
     "name": "stderr",
     "output_type": "stream",
     "text": [
      "\r",
      "Scraping lazarnedkov: 346post [11:28,  1.18s/post]"
     ]
    },
    {
     "name": "stderr",
     "output_type": "stream",
     "text": [
      "\r",
      "Scraping lazarnedkov: 347post [11:28,  1.12post/s]"
     ]
    },
    {
     "name": "stderr",
     "output_type": "stream",
     "text": [
      "\r",
      "Scraping lazarnedkov: 348post [11:32,  1.84s/post]"
     ]
    },
    {
     "name": "stderr",
     "output_type": "stream",
     "text": [
      "\r",
      "Scraping lazarnedkov: 349post [11:36,  2.55s/post]"
     ]
    },
    {
     "name": "stderr",
     "output_type": "stream",
     "text": [
      "\r",
      "Scraping lazarnedkov: 350post [11:36,  1.85s/post]"
     ]
    },
    {
     "name": "stderr",
     "output_type": "stream",
     "text": [
      "\r",
      "Scraping lazarnedkov: 351post [11:39,  2.24s/post]"
     ]
    },
    {
     "name": "stderr",
     "output_type": "stream",
     "text": [
      "\r",
      "Scraping lazarnedkov: 352post [11:40,  1.63s/post]"
     ]
    },
    {
     "name": "stderr",
     "output_type": "stream",
     "text": [
      "\r",
      "Scraping lazarnedkov: 353post [11:40,  1.21s/post]"
     ]
    },
    {
     "name": "stderr",
     "output_type": "stream",
     "text": [
      "\r",
      "Scraping lazarnedkov: 354post [11:44,  1.97s/post]"
     ]
    },
    {
     "name": "stderr",
     "output_type": "stream",
     "text": [
      "\r",
      "Scraping lazarnedkov: 355post [11:44,  1.46s/post]"
     ]
    },
    {
     "name": "stderr",
     "output_type": "stream",
     "text": [
      "\r",
      "Scraping lazarnedkov: 356post [11:44,  1.09s/post]"
     ]
    },
    {
     "name": "stderr",
     "output_type": "stream",
     "text": [
      "JSON Query to graphql/query: HTTPSConnectionPool(host='www.instagram.com', port=443): Max retries exceeded with url: /graphql/query (Caused by ProxyError('Unable to connect to proxy', OSError('Tunnel connection failed: 407 Proxy Authentication Required'))) [retrying; skip with ^C]\n"
     ]
    },
    {
     "name": "stderr",
     "output_type": "stream",
     "text": [
      "\r",
      "Scraping lazarnedkov: 357post [11:50,  2.64s/post]"
     ]
    },
    {
     "name": "stderr",
     "output_type": "stream",
     "text": [
      "\r",
      "Scraping lazarnedkov: 358post [11:51,  1.92s/post]"
     ]
    },
    {
     "name": "stderr",
     "output_type": "stream",
     "text": [
      "\r",
      "Scraping lazarnedkov: 359post [11:51,  1.41s/post]"
     ]
    },
    {
     "name": "stderr",
     "output_type": "stream",
     "text": [
      "\r",
      "Scraping lazarnedkov: 360post [11:55,  2.13s/post]"
     ]
    },
    {
     "name": "stderr",
     "output_type": "stream",
     "text": [
      "\r",
      "Scraping lazarnedkov: 361post [11:58,  2.43s/post]"
     ]
    },
    {
     "name": "stderr",
     "output_type": "stream",
     "text": [
      "\r",
      "Scraping lazarnedkov: 362post [11:58,  1.77s/post]"
     ]
    },
    {
     "name": "stderr",
     "output_type": "stream",
     "text": [
      "\r",
      "Scraping lazarnedkov: 363post [12:02,  2.41s/post]"
     ]
    },
    {
     "name": "stderr",
     "output_type": "stream",
     "text": [
      "\r",
      "Scraping lazarnedkov: 364post [12:02,  1.75s/post]"
     ]
    },
    {
     "name": "stderr",
     "output_type": "stream",
     "text": [
      "\r",
      "Scraping lazarnedkov: 365post [12:09,  3.19s/post]"
     ]
    },
    {
     "name": "stderr",
     "output_type": "stream",
     "text": [
      "\r",
      "Scraping lazarnedkov: 366post [12:11,  2.85s/post]"
     ]
    },
    {
     "name": "stderr",
     "output_type": "stream",
     "text": [
      "\r",
      "Scraping lazarnedkov: 367post [12:13,  2.75s/post]"
     ]
    },
    {
     "name": "stderr",
     "output_type": "stream",
     "text": [
      "\r",
      "Scraping lazarnedkov: 368post [12:14,  1.99s/post]"
     ]
    },
    {
     "name": "stderr",
     "output_type": "stream",
     "text": [
      "\r",
      "Scraping lazarnedkov: 369post [12:24,  4.42s/post]"
     ]
    },
    {
     "name": "stderr",
     "output_type": "stream",
     "text": [
      "\r",
      "Scraping lazarnedkov: 370post [12:26,  3.82s/post]"
     ]
    },
    {
     "name": "stderr",
     "output_type": "stream",
     "text": [
      "\r",
      "Scraping lazarnedkov: 371post [12:28,  3.31s/post]"
     ]
    },
    {
     "name": "stderr",
     "output_type": "stream",
     "text": [
      "\r",
      "Scraping lazarnedkov: 372post [12:28,  2.38s/post]"
     ]
    },
    {
     "name": "stderr",
     "output_type": "stream",
     "text": [
      "\r",
      "Scraping lazarnedkov: 373post [12:36,  3.97s/post]"
     ]
    },
    {
     "name": "stderr",
     "output_type": "stream",
     "text": [
      "\r",
      "Scraping lazarnedkov: 374post [12:37,  3.19s/post]"
     ]
    },
    {
     "name": "stderr",
     "output_type": "stream",
     "text": [
      "\r",
      "Scraping lazarnedkov: 375post [12:38,  2.30s/post]"
     ]
    },
    {
     "name": "stderr",
     "output_type": "stream",
     "text": [
      "\r",
      "Scraping lazarnedkov: 376post [12:38,  1.68s/post]"
     ]
    },
    {
     "name": "stderr",
     "output_type": "stream",
     "text": [
      "\r",
      "Scraping lazarnedkov: 377post [12:43,  2.87s/post]"
     ]
    },
    {
     "name": "stderr",
     "output_type": "stream",
     "text": [
      "\r",
      "Scraping lazarnedkov: 378post [12:46,  2.63s/post]"
     ]
    },
    {
     "name": "stderr",
     "output_type": "stream",
     "text": [
      "\r",
      "Scraping lazarnedkov: 379post [12:49,  2.87s/post]"
     ]
    },
    {
     "name": "stderr",
     "output_type": "stream",
     "text": [
      "\r",
      "Scraping lazarnedkov: 380post [12:52,  3.04s/post]"
     ]
    },
    {
     "name": "stderr",
     "output_type": "stream",
     "text": [
      "\r",
      "Scraping lazarnedkov: 381post [12:56,  3.28s/post]"
     ]
    },
    {
     "name": "stderr",
     "output_type": "stream",
     "text": [
      "\r",
      "Scraping lazarnedkov: 382post [12:57,  2.40s/post]"
     ]
    },
    {
     "name": "stderr",
     "output_type": "stream",
     "text": [
      "\r",
      "Scraping lazarnedkov: 383post [13:00,  2.63s/post]"
     ]
    },
    {
     "name": "stderr",
     "output_type": "stream",
     "text": [
      "\r",
      "Scraping lazarnedkov: 384post [13:00,  1.91s/post]"
     ]
    },
    {
     "name": "stderr",
     "output_type": "stream",
     "text": [
      "\r",
      "Scraping lazarnedkov: 385post [13:04,  2.63s/post]"
     ]
    },
    {
     "name": "stderr",
     "output_type": "stream",
     "text": [
      "\r",
      "Scraping lazarnedkov: 386post [13:05,  1.91s/post]"
     ]
    },
    {
     "name": "stderr",
     "output_type": "stream",
     "text": [
      "\r",
      "Scraping lazarnedkov: 387post [13:05,  1.40s/post]"
     ]
    },
    {
     "name": "stderr",
     "output_type": "stream",
     "text": [
      "\r",
      "Scraping lazarnedkov: 388post [13:05,  1.05s/post]"
     ]
    },
    {
     "name": "stderr",
     "output_type": "stream",
     "text": [
      "\r",
      "Scraping lazarnedkov: 389post [13:05,  1.25post/s]"
     ]
    },
    {
     "name": "stderr",
     "output_type": "stream",
     "text": [
      "\r",
      "Scraping lazarnedkov: 390post [13:09,  1.66s/post]"
     ]
    },
    {
     "name": "stderr",
     "output_type": "stream",
     "text": [
      "\r",
      "Scraping lazarnedkov: 391post [13:09,  1.23s/post]"
     ]
    },
    {
     "name": "stderr",
     "output_type": "stream",
     "text": [
      "\r",
      "Scraping lazarnedkov: 392post [13:13,  1.90s/post]"
     ]
    },
    {
     "name": "stderr",
     "output_type": "stream",
     "text": [
      "\r",
      "Scraping lazarnedkov: 393post [13:13,  1.40s/post]"
     ]
    },
    {
     "name": "stderr",
     "output_type": "stream",
     "text": [
      "\r",
      "Scraping lazarnedkov: 394post [13:13,  1.05s/post]"
     ]
    },
    {
     "name": "stderr",
     "output_type": "stream",
     "text": [
      "\r",
      "Scraping lazarnedkov: 395post [13:13,  1.20post/s]"
     ]
    },
    {
     "name": "stderr",
     "output_type": "stream",
     "text": [
      "\r",
      "Scraping lazarnedkov: 396post [13:14,  1.54post/s]"
     ]
    },
    {
     "name": "stderr",
     "output_type": "stream",
     "text": [
      "\r",
      "Scraping lazarnedkov: 397post [13:22,  3.04s/post]"
     ]
    },
    {
     "name": "stderr",
     "output_type": "stream",
     "text": [
      "\r",
      "Scraping lazarnedkov: 398post [13:22,  2.19s/post]"
     ]
    },
    {
     "name": "stderr",
     "output_type": "stream",
     "text": [
      "\r",
      "Scraping lazarnedkov: 399post [13:23,  1.60s/post]"
     ]
    },
    {
     "name": "stderr",
     "output_type": "stream",
     "text": [
      "\r",
      "Scraping lazarnedkov: 400post [13:24,  1.49s/post]"
     ]
    },
    {
     "name": "stderr",
     "output_type": "stream",
     "text": [
      "\r",
      "Scraping lazarnedkov: 401post [13:24,  1.12s/post]"
     ]
    },
    {
     "name": "stderr",
     "output_type": "stream",
     "text": [
      "\r",
      "Scraping lazarnedkov: 402post [13:24,  1.18post/s]"
     ]
    },
    {
     "name": "stderr",
     "output_type": "stream",
     "text": [
      "\r",
      "Scraping lazarnedkov: 403post [13:25,  1.51post/s]"
     ]
    },
    {
     "name": "stderr",
     "output_type": "stream",
     "text": [
      "\r",
      "Scraping lazarnedkov: 404post [13:25,  1.87post/s]"
     ]
    },
    {
     "name": "stderr",
     "output_type": "stream",
     "text": [
      "\r",
      "Scraping lazarnedkov: 405post [13:25,  2.23post/s]"
     ]
    },
    {
     "name": "stderr",
     "output_type": "stream",
     "text": [
      "\r",
      "Scraping lazarnedkov: 406post [13:26,  2.15post/s]"
     ]
    },
    {
     "name": "stderr",
     "output_type": "stream",
     "text": [
      "\r",
      "Scraping lazarnedkov: 407post [13:26,  2.50post/s]"
     ]
    },
    {
     "name": "stderr",
     "output_type": "stream",
     "text": [
      "\r",
      "Scraping lazarnedkov: 408post [13:26,  2.86post/s]"
     ]
    },
    {
     "name": "stderr",
     "output_type": "stream",
     "text": [
      "\r",
      "Scraping lazarnedkov: 409post [13:28,  1.14post/s]"
     ]
    },
    {
     "name": "stderr",
     "output_type": "stream",
     "text": [
      "\r",
      "Scraping lazarnedkov: 410post [13:28,  1.47post/s]"
     ]
    },
    {
     "name": "stderr",
     "output_type": "stream",
     "text": [
      "\r",
      "Scraping lazarnedkov: 411post [13:29,  1.79post/s]"
     ]
    },
    {
     "name": "stderr",
     "output_type": "stream",
     "text": [
      "\r",
      "Scraping lazarnedkov: 412post [13:30,  1.21post/s]"
     ]
    },
    {
     "name": "stderr",
     "output_type": "stream",
     "text": [
      "\r",
      "Scraping lazarnedkov: 413post [13:30,  1.48post/s]"
     ]
    },
    {
     "name": "stderr",
     "output_type": "stream",
     "text": [
      "\r",
      "Scraping lazarnedkov: 414post [13:31,  1.86post/s]"
     ]
    },
    {
     "name": "stderr",
     "output_type": "stream",
     "text": [
      "\r",
      "Scraping lazarnedkov: 415post [13:31,  2.26post/s]"
     ]
    },
    {
     "name": "stderr",
     "output_type": "stream",
     "text": [
      "\r",
      "Scraping lazarnedkov: 416post [13:31,  2.67post/s]"
     ]
    },
    {
     "name": "stderr",
     "output_type": "stream",
     "text": [
      "\r",
      "Scraping lazarnedkov: 417post [13:31,  2.96post/s]"
     ]
    },
    {
     "name": "stderr",
     "output_type": "stream",
     "text": [
      "\r",
      "Scraping lazarnedkov: 418post [13:32,  3.32post/s]"
     ]
    },
    {
     "name": "stderr",
     "output_type": "stream",
     "text": [
      "\r",
      "Scraping lazarnedkov: 419post [13:32,  2.59post/s]"
     ]
    },
    {
     "name": "stderr",
     "output_type": "stream",
     "text": [
      "\r",
      "Scraping lazarnedkov: 420post [13:32,  2.96post/s]"
     ]
    },
    {
     "name": "stderr",
     "output_type": "stream",
     "text": [
      "\r",
      "Scraping lazarnedkov: 421post [13:35,  1.06s/post]"
     ]
    },
    {
     "name": "stderr",
     "output_type": "stream",
     "text": [
      "\r",
      "Scraping lazarnedkov: 422post [13:35,  1.23post/s]"
     ]
    },
    {
     "name": "stderr",
     "output_type": "stream",
     "text": [
      "\r",
      "Scraping lazarnedkov: 423post [13:36,  1.58post/s]"
     ]
    },
    {
     "name": "stderr",
     "output_type": "stream",
     "text": [
      "\r",
      "Scraping lazarnedkov: 424post [13:36,  1.80post/s]"
     ]
    },
    {
     "name": "stderr",
     "output_type": "stream",
     "text": [
      "\r",
      "Scraping lazarnedkov: 425post [13:36,  2.20post/s]"
     ]
    },
    {
     "name": "stderr",
     "output_type": "stream",
     "text": [
      "\r",
      "Scraping lazarnedkov: 426post [13:36,  2.60post/s]"
     ]
    },
    {
     "name": "stderr",
     "output_type": "stream",
     "text": [
      "\r",
      "Scraping lazarnedkov: 427post [13:37,  2.86post/s]"
     ]
    },
    {
     "name": "stderr",
     "output_type": "stream",
     "text": [
      "\r",
      "Scraping lazarnedkov: 428post [13:37,  3.18post/s]"
     ]
    },
    {
     "name": "stderr",
     "output_type": "stream",
     "text": [
      "\r",
      "Scraping lazarnedkov: 429post [13:37,  3.26post/s]"
     ]
    },
    {
     "name": "stderr",
     "output_type": "stream",
     "text": [
      "\r",
      "Scraping lazarnedkov: 430post [13:40,  1.14s/post]"
     ]
    },
    {
     "name": "stderr",
     "output_type": "stream",
     "text": [
      "\r",
      "Scraping lazarnedkov: 431post [13:40,  1.16post/s]"
     ]
    },
    {
     "name": "stderr",
     "output_type": "stream",
     "text": [
      "\r",
      "Scraping lazarnedkov: 432post [13:41,  1.45post/s]"
     ]
    },
    {
     "name": "stderr",
     "output_type": "stream",
     "text": [
      "\r",
      "Scraping lazarnedkov: 433post [13:43,  1.22s/post]"
     ]
    },
    {
     "name": "stderr",
     "output_type": "stream",
     "text": [
      "\r",
      "Scraping lazarnedkov: 434post [13:43,  1.07post/s]"
     ]
    },
    {
     "name": "stderr",
     "output_type": "stream",
     "text": [
      "\r",
      "Scraping lazarnedkov: 435post [13:44,  1.39post/s]"
     ]
    },
    {
     "name": "stderr",
     "output_type": "stream",
     "text": [
      "\r",
      "Scraping lazarnedkov: 436post [13:44,  1.75post/s]"
     ]
    },
    {
     "name": "stderr",
     "output_type": "stream",
     "text": [
      "\r",
      "Scraping lazarnedkov: 437post [13:44,  2.14post/s]"
     ]
    },
    {
     "name": "stderr",
     "output_type": "stream",
     "text": [
      "\r",
      "Scraping lazarnedkov: 438post [13:44,  2.41post/s]"
     ]
    },
    {
     "name": "stderr",
     "output_type": "stream",
     "text": [
      "\r",
      "Scraping lazarnedkov: 439post [13:45,  2.68post/s]"
     ]
    },
    {
     "name": "stderr",
     "output_type": "stream",
     "text": [
      "\r",
      "Scraping lazarnedkov: 440post [13:45,  3.07post/s]"
     ]
    },
    {
     "name": "stderr",
     "output_type": "stream",
     "text": [
      "\r",
      "Scraping lazarnedkov: 441post [13:45,  3.07post/s]"
     ]
    },
    {
     "name": "stderr",
     "output_type": "stream",
     "text": [
      "\r",
      "Scraping lazarnedkov: 442post [13:50,  1.54s/post]"
     ]
    },
    {
     "name": "stderr",
     "output_type": "stream",
     "text": [
      "\r",
      "Scraping lazarnedkov: 443post [13:50,  1.15s/post]"
     ]
    },
    {
     "name": "stderr",
     "output_type": "stream",
     "text": [
      "\r",
      "Scraping lazarnedkov: 444post [13:50,  1.15post/s]"
     ]
    },
    {
     "name": "stderr",
     "output_type": "stream",
     "text": [
      "\r",
      "Scraping lazarnedkov: 445post [13:55,  2.14s/post]"
     ]
    },
    {
     "name": "stderr",
     "output_type": "stream",
     "text": [
      "\r",
      "Scraping lazarnedkov: 446post [13:55,  1.59s/post]"
     ]
    },
    {
     "name": "stderr",
     "output_type": "stream",
     "text": [
      "\r",
      "Scraping lazarnedkov: 447post [13:56,  1.21s/post]"
     ]
    },
    {
     "name": "stderr",
     "output_type": "stream",
     "text": [
      "\r",
      "Scraping lazarnedkov: 448post [14:01,  2.50s/post]"
     ]
    },
    {
     "name": "stderr",
     "output_type": "stream",
     "text": [
      "\r",
      "Scraping lazarnedkov: 449post [14:02,  1.82s/post]"
     ]
    },
    {
     "name": "stderr",
     "output_type": "stream",
     "text": [
      "\r",
      "Scraping lazarnedkov: 450post [14:03,  1.74s/post]"
     ]
    },
    {
     "name": "stderr",
     "output_type": "stream",
     "text": [
      "\r",
      "Scraping lazarnedkov: 451post [14:03,  1.28s/post]"
     ]
    },
    {
     "name": "stderr",
     "output_type": "stream",
     "text": [
      "\r",
      "Scraping lazarnedkov: 452post [14:04,  1.04post/s]"
     ]
    },
    {
     "name": "stderr",
     "output_type": "stream",
     "text": [
      "\r",
      "Scraping lazarnedkov: 453post [14:04,  1.35post/s]"
     ]
    },
    {
     "name": "stderr",
     "output_type": "stream",
     "text": [
      "\r",
      "Scraping lazarnedkov: 454post [14:04,  1.71post/s]"
     ]
    },
    {
     "name": "stderr",
     "output_type": "stream",
     "text": [
      "\r",
      "Scraping lazarnedkov: 455post [14:04,  2.10post/s]"
     ]
    },
    {
     "name": "stderr",
     "output_type": "stream",
     "text": [
      "\r",
      "Scraping lazarnedkov: 456post [14:04,  2.51post/s]"
     ]
    },
    {
     "name": "stderr",
     "output_type": "stream",
     "text": [
      "\r",
      "Scraping lazarnedkov: 457post [14:09,  1.72s/post]"
     ]
    },
    {
     "name": "stderr",
     "output_type": "stream",
     "text": [
      "\r",
      "Scraping lazarnedkov: 458post [14:09,  1.27s/post]"
     ]
    },
    {
     "name": "stderr",
     "output_type": "stream",
     "text": [
      "\r",
      "Scraping lazarnedkov: 459post [14:10,  1.04post/s]"
     ]
    },
    {
     "name": "stderr",
     "output_type": "stream",
     "text": [
      "\r",
      "Scraping lazarnedkov: 460post [14:10,  1.36post/s]"
     ]
    },
    {
     "name": "stderr",
     "output_type": "stream",
     "text": [
      "\r",
      "Scraping lazarnedkov: 461post [14:10,  1.62post/s]"
     ]
    },
    {
     "name": "stderr",
     "output_type": "stream",
     "text": [
      "\r",
      "Scraping lazarnedkov: 462post [14:10,  2.01post/s]"
     ]
    },
    {
     "name": "stderr",
     "output_type": "stream",
     "text": [
      "\r",
      "Scraping lazarnedkov: 463post [14:11,  2.39post/s]"
     ]
    },
    {
     "name": "stderr",
     "output_type": "stream",
     "text": [
      "\r",
      "Scraping lazarnedkov: 464post [14:11,  2.68post/s]"
     ]
    },
    {
     "name": "stderr",
     "output_type": "stream",
     "text": [
      "\r",
      "Scraping lazarnedkov: 465post [14:13,  1.22post/s]"
     ]
    },
    {
     "name": "stderr",
     "output_type": "stream",
     "text": [
      "\r",
      "Scraping lazarnedkov: 466post [14:13,  1.57post/s]"
     ]
    },
    {
     "name": "stderr",
     "output_type": "stream",
     "text": [
      "\r",
      "Scraping lazarnedkov: 467post [14:13,  1.87post/s]"
     ]
    },
    {
     "name": "stderr",
     "output_type": "stream",
     "text": [
      "\r",
      "Scraping lazarnedkov: 468post [14:14,  2.27post/s]"
     ]
    },
    {
     "name": "stderr",
     "output_type": "stream",
     "text": [
      "\r",
      "Scraping lazarnedkov: 469post [14:16,  1.08post/s]"
     ]
    },
    {
     "name": "stderr",
     "output_type": "stream",
     "text": [
      "\r",
      "Scraping lazarnedkov: 470post [14:16,  1.40post/s]"
     ]
    },
    {
     "name": "stderr",
     "output_type": "stream",
     "text": [
      "\r",
      "Scraping lazarnedkov: 471post [14:16,  1.77post/s]"
     ]
    },
    {
     "name": "stderr",
     "output_type": "stream",
     "text": [
      "\r",
      "Scraping lazarnedkov: 472post [14:16,  2.17post/s]"
     ]
    },
    {
     "name": "stderr",
     "output_type": "stream",
     "text": [
      "\r",
      "Scraping lazarnedkov: 473post [14:16,  2.55post/s]"
     ]
    },
    {
     "name": "stderr",
     "output_type": "stream",
     "text": [
      "\r",
      "Scraping lazarnedkov: 474post [14:17,  2.94post/s]"
     ]
    },
    {
     "name": "stderr",
     "output_type": "stream",
     "text": [
      "\r",
      "Scraping lazarnedkov: 475post [14:17,  3.29post/s]"
     ]
    },
    {
     "name": "stderr",
     "output_type": "stream",
     "text": [
      "\r",
      "Scraping lazarnedkov: 476post [14:17,  3.30post/s]"
     ]
    },
    {
     "name": "stderr",
     "output_type": "stream",
     "text": [
      "\r",
      "Scraping lazarnedkov: 477post [14:17,  3.49post/s]"
     ]
    },
    {
     "name": "stderr",
     "output_type": "stream",
     "text": [
      "\r",
      "Scraping lazarnedkov: 478post [14:18,  3.73post/s]"
     ]
    },
    {
     "name": "stderr",
     "output_type": "stream",
     "text": [
      "\r",
      "Scraping lazarnedkov: 479post [14:18,  3.51post/s]"
     ]
    },
    {
     "name": "stderr",
     "output_type": "stream",
     "text": [
      "\r",
      "Scraping lazarnedkov: 480post [14:18,  3.42post/s]"
     ]
    },
    {
     "name": "stderr",
     "output_type": "stream",
     "text": [
      "\r",
      "Scraping lazarnedkov: 481post [14:20,  1.18post/s]"
     ]
    },
    {
     "name": "stderr",
     "output_type": "stream",
     "text": [
      "\r",
      "Scraping lazarnedkov: 482post [14:21,  1.52post/s]"
     ]
    },
    {
     "name": "stderr",
     "output_type": "stream",
     "text": [
      "\r",
      "Scraping lazarnedkov: 483post [14:21,  1.89post/s]"
     ]
    },
    {
     "name": "stderr",
     "output_type": "stream",
     "text": [
      "\r",
      "Scraping lazarnedkov: 484post [14:21,  2.28post/s]"
     ]
    },
    {
     "name": "stderr",
     "output_type": "stream",
     "text": [
      "\r",
      "Scraping lazarnedkov: 485post [14:21,  2.69post/s]"
     ]
    },
    {
     "name": "stderr",
     "output_type": "stream",
     "text": [
      "\r",
      "Scraping lazarnedkov: 486post [14:22,  2.98post/s]"
     ]
    },
    {
     "name": "stderr",
     "output_type": "stream",
     "text": [
      "\r",
      "Scraping lazarnedkov: 487post [14:22,  3.32post/s]"
     ]
    },
    {
     "name": "stderr",
     "output_type": "stream",
     "text": [
      "\r",
      "Scraping lazarnedkov: 488post [14:22,  3.48post/s]"
     ]
    },
    {
     "name": "stderr",
     "output_type": "stream",
     "text": [
      "\r",
      "Scraping lazarnedkov: 489post [14:22,  3.64post/s]"
     ]
    },
    {
     "name": "stderr",
     "output_type": "stream",
     "text": [
      "\r",
      "Scraping lazarnedkov: 490post [14:23,  3.80post/s]"
     ]
    },
    {
     "name": "stderr",
     "output_type": "stream",
     "text": [
      "\r",
      "Scraping lazarnedkov: 491post [14:23,  3.89post/s]"
     ]
    },
    {
     "name": "stderr",
     "output_type": "stream",
     "text": [
      "\r",
      "Scraping lazarnedkov: 492post [14:23,  3.97post/s]"
     ]
    },
    {
     "name": "stderr",
     "output_type": "stream",
     "text": [
      "\r",
      "Scraping lazarnedkov: 493post [14:31,  2.51s/post]"
     ]
    },
    {
     "name": "stderr",
     "output_type": "stream",
     "text": [
      "\r",
      "Scraping lazarnedkov: 494post [14:31,  1.82s/post]"
     ]
    },
    {
     "name": "stderr",
     "output_type": "stream",
     "text": [
      "\r",
      "Scraping lazarnedkov: 495post [14:31,  1.34s/post]"
     ]
    },
    {
     "name": "stderr",
     "output_type": "stream",
     "text": [
      "\r",
      "Scraping lazarnedkov: 496post [14:31,  1.01s/post]"
     ]
    },
    {
     "name": "stderr",
     "output_type": "stream",
     "text": [
      "\r",
      "Scraping lazarnedkov: 497post [14:32,  1.30post/s]"
     ]
    },
    {
     "name": "stderr",
     "output_type": "stream",
     "text": [
      "\r",
      "Scraping lazarnedkov: 498post [14:32,  1.64post/s]"
     ]
    },
    {
     "name": "stderr",
     "output_type": "stream",
     "text": [
      "\r",
      "Scraping lazarnedkov: 499post [14:32,  1.92post/s]"
     ]
    },
    {
     "name": "stderr",
     "output_type": "stream",
     "text": [
      "\r",
      "Scraping lazarnedkov: 500post [14:33,  2.20post/s]"
     ]
    },
    {
     "name": "stderr",
     "output_type": "stream",
     "text": [
      "\r",
      "Scraping lazarnedkov: 501post [14:33,  2.60post/s]"
     ]
    },
    {
     "name": "stderr",
     "output_type": "stream",
     "text": [
      "\r",
      "Scraping lazarnedkov: 502post [14:33,  2.80post/s]"
     ]
    },
    {
     "name": "stderr",
     "output_type": "stream",
     "text": [
      "\r",
      "Scraping lazarnedkov: 503post [14:33,  3.14post/s]"
     ]
    },
    {
     "name": "stderr",
     "output_type": "stream",
     "text": [
      "\r",
      "Scraping lazarnedkov: 504post [14:34,  3.23post/s]"
     ]
    },
    {
     "name": "stderr",
     "output_type": "stream",
     "text": [
      "\r",
      "Scraping lazarnedkov: 505post [14:36,  1.03s/post]"
     ]
    },
    {
     "name": "stderr",
     "output_type": "stream",
     "text": [
      "\r",
      "Scraping lazarnedkov: 506post [14:37,  1.27post/s]"
     ]
    },
    {
     "name": "stderr",
     "output_type": "stream",
     "text": [
      "\r",
      "Scraping lazarnedkov: 507post [14:37,  1.54post/s]"
     ]
    },
    {
     "name": "stderr",
     "output_type": "stream",
     "text": [
      "\r",
      "Scraping lazarnedkov: 508post [14:37,  1.82post/s]"
     ]
    },
    {
     "name": "stderr",
     "output_type": "stream",
     "text": [
      "\r",
      "Scraping lazarnedkov: 509post [14:37,  2.12post/s]"
     ]
    },
    {
     "name": "stderr",
     "output_type": "stream",
     "text": [
      "\r",
      "Scraping lazarnedkov: 510post [14:38,  2.52post/s]"
     ]
    },
    {
     "name": "stderr",
     "output_type": "stream",
     "text": [
      "\r",
      "Scraping lazarnedkov: 511post [14:38,  2.71post/s]"
     ]
    },
    {
     "name": "stderr",
     "output_type": "stream",
     "text": [
      "\r",
      "Scraping lazarnedkov: 512post [14:38,  2.84post/s]"
     ]
    },
    {
     "name": "stderr",
     "output_type": "stream",
     "text": [
      "\r",
      "Scraping lazarnedkov: 513post [14:39,  2.95post/s]"
     ]
    },
    {
     "name": "stderr",
     "output_type": "stream",
     "text": [
      "\r",
      "Scraping lazarnedkov: 514post [14:39,  3.06post/s]"
     ]
    },
    {
     "name": "stderr",
     "output_type": "stream",
     "text": [
      "\r",
      "Scraping lazarnedkov: 515post [14:39,  3.11post/s]"
     ]
    },
    {
     "name": "stderr",
     "output_type": "stream",
     "text": [
      "\r",
      "Scraping lazarnedkov: 516post [14:40,  3.12post/s]"
     ]
    },
    {
     "name": "stderr",
     "output_type": "stream",
     "text": [
      "\r",
      "Scraping lazarnedkov: 517post [14:42,  1.07post/s]"
     ]
    },
    {
     "name": "stderr",
     "output_type": "stream",
     "text": [
      "\r",
      "Scraping lazarnedkov: 518post [14:42,  1.39post/s]"
     ]
    },
    {
     "name": "stderr",
     "output_type": "stream",
     "text": [
      "\r",
      "Scraping lazarnedkov: 519post [14:42,  1.75post/s]"
     ]
    },
    {
     "name": "stderr",
     "output_type": "stream",
     "text": [
      "\r",
      "Scraping lazarnedkov: 520post [14:43,  2.15post/s]"
     ]
    },
    {
     "name": "stderr",
     "output_type": "stream",
     "text": [
      "\r",
      "Scraping lazarnedkov: 521post [14:43,  2.55post/s]"
     ]
    },
    {
     "name": "stderr",
     "output_type": "stream",
     "text": [
      "\r",
      "Scraping lazarnedkov: 522post [14:43,  2.93post/s]"
     ]
    },
    {
     "name": "stderr",
     "output_type": "stream",
     "text": [
      "\r",
      "Scraping lazarnedkov: 523post [14:43,  3.28post/s]"
     ]
    },
    {
     "name": "stderr",
     "output_type": "stream",
     "text": [
      "\r",
      "Scraping lazarnedkov: 524post [14:43,  3.59post/s]"
     ]
    },
    {
     "name": "stderr",
     "output_type": "stream",
     "text": [
      "\r",
      "Scraping lazarnedkov: 525post [14:44,  3.54post/s]"
     ]
    },
    {
     "name": "stderr",
     "output_type": "stream",
     "text": [
      "\r",
      "Scraping lazarnedkov: 526post [14:44,  3.78post/s]"
     ]
    },
    {
     "name": "stderr",
     "output_type": "stream",
     "text": [
      "\r",
      "Scraping lazarnedkov: 527post [14:44,  3.74post/s]"
     ]
    },
    {
     "name": "stderr",
     "output_type": "stream",
     "text": [
      "\r",
      "Scraping lazarnedkov: 528post [14:44,  3.91post/s]"
     ]
    },
    {
     "name": "stderr",
     "output_type": "stream",
     "text": [
      "\r",
      "Scraping lazarnedkov: 529post [14:49,  1.45s/post]"
     ]
    },
    {
     "name": "stderr",
     "output_type": "stream",
     "text": [
      "\r",
      "Scraping lazarnedkov: 530post [14:49,  1.08s/post]"
     ]
    },
    {
     "name": "stderr",
     "output_type": "stream",
     "text": [
      "\r",
      "Scraping lazarnedkov: 531post [14:49,  1.19post/s]"
     ]
    },
    {
     "name": "stderr",
     "output_type": "stream",
     "text": [
      "\r",
      "Scraping lazarnedkov: 532post [14:49,  1.53post/s]"
     ]
    },
    {
     "name": "stderr",
     "output_type": "stream",
     "text": [
      "\r",
      "Scraping lazarnedkov: 533post [14:50,  1.90post/s]"
     ]
    },
    {
     "name": "stderr",
     "output_type": "stream",
     "text": [
      "\r",
      "Scraping lazarnedkov: 534post [14:50,  2.14post/s]"
     ]
    },
    {
     "name": "stderr",
     "output_type": "stream",
     "text": [
      "\r",
      "Scraping lazarnedkov: 535post [14:50,  2.54post/s]"
     ]
    },
    {
     "name": "stderr",
     "output_type": "stream",
     "text": [
      "\r",
      "Scraping lazarnedkov: 536post [14:50,  2.78post/s]"
     ]
    },
    {
     "name": "stderr",
     "output_type": "stream",
     "text": [
      "\r",
      "Scraping lazarnedkov: 537post [14:51,  2.83post/s]"
     ]
    },
    {
     "name": "stderr",
     "output_type": "stream",
     "text": [
      "\r",
      "Scraping lazarnedkov: 538post [14:51,  3.19post/s]"
     ]
    },
    {
     "name": "stderr",
     "output_type": "stream",
     "text": [
      "\r",
      "Scraping lazarnedkov: 539post [14:51,  3.47post/s]"
     ]
    },
    {
     "name": "stderr",
     "output_type": "stream",
     "text": [
      "\r",
      "Scraping lazarnedkov: 540post [14:52,  3.51post/s]"
     ]
    },
    {
     "name": "stderr",
     "output_type": "stream",
     "text": [
      "\r",
      "Scraping lazarnedkov: 541post [14:58,  2.26s/post]"
     ]
    },
    {
     "name": "stderr",
     "output_type": "stream",
     "text": [
      "\r",
      "Scraping lazarnedkov: 542post [14:59,  1.65s/post]"
     ]
    },
    {
     "name": "stderr",
     "output_type": "stream",
     "text": [
      "\r",
      "Scraping lazarnedkov: 543post [14:59,  1.23s/post]"
     ]
    },
    {
     "name": "stderr",
     "output_type": "stream",
     "text": [
      "\r",
      "Scraping lazarnedkov: 544post [14:59,  1.07post/s]"
     ]
    },
    {
     "name": "stderr",
     "output_type": "stream",
     "text": [
      "\r",
      "Scraping lazarnedkov: 545post [14:59,  1.36post/s]"
     ]
    },
    {
     "name": "stderr",
     "output_type": "stream",
     "text": [
      "\r",
      "Scraping lazarnedkov: 546post [15:00,  1.73post/s]"
     ]
    },
    {
     "name": "stderr",
     "output_type": "stream",
     "text": [
      "\r",
      "Scraping lazarnedkov: 547post [15:00,  2.10post/s]"
     ]
    },
    {
     "name": "stderr",
     "output_type": "stream",
     "text": [
      "\r",
      "Scraping lazarnedkov: 548post [15:00,  2.24post/s]"
     ]
    },
    {
     "name": "stderr",
     "output_type": "stream",
     "text": [
      "\r",
      "Scraping lazarnedkov: 549post [15:00,  2.63post/s]"
     ]
    },
    {
     "name": "stderr",
     "output_type": "stream",
     "text": [
      "\r",
      "Scraping lazarnedkov: 550post [15:01,  2.62post/s]"
     ]
    },
    {
     "name": "stderr",
     "output_type": "stream",
     "text": [
      "\r",
      "Scraping lazarnedkov: 551post [15:01,  3.00post/s]"
     ]
    },
    {
     "name": "stderr",
     "output_type": "stream",
     "text": [
      "\r",
      "Scraping lazarnedkov: 552post [15:01,  3.21post/s]"
     ]
    },
    {
     "name": "stderr",
     "output_type": "stream",
     "text": [
      "\r",
      "Scraping lazarnedkov: 553post [15:05,  1.33s/post]"
     ]
    },
    {
     "name": "stderr",
     "output_type": "stream",
     "text": [
      "\r",
      "Scraping lazarnedkov: 554post [15:05,  1.01post/s]"
     ]
    },
    {
     "name": "stderr",
     "output_type": "stream",
     "text": [
      "\r",
      "Scraping lazarnedkov: 555post [15:05,  1.31post/s]"
     ]
    },
    {
     "name": "stderr",
     "output_type": "stream",
     "text": [
      "\r",
      "Scraping lazarnedkov: 556post [15:06,  1.66post/s]"
     ]
    },
    {
     "name": "stderr",
     "output_type": "stream",
     "text": [
      "\r",
      "Scraping lazarnedkov: 557post [15:06,  2.01post/s]"
     ]
    },
    {
     "name": "stderr",
     "output_type": "stream",
     "text": [
      "\r",
      "Scraping lazarnedkov: 558post [15:06,  2.25post/s]"
     ]
    },
    {
     "name": "stderr",
     "output_type": "stream",
     "text": [
      "\r",
      "Scraping lazarnedkov: 559post [15:06,  2.64post/s]"
     ]
    },
    {
     "name": "stderr",
     "output_type": "stream",
     "text": [
      "\r",
      "Scraping lazarnedkov: 560post [15:07,  3.02post/s]"
     ]
    },
    {
     "name": "stderr",
     "output_type": "stream",
     "text": [
      "\r",
      "Scraping lazarnedkov: 561post [15:07,  2.46post/s]"
     ]
    },
    {
     "name": "stderr",
     "output_type": "stream",
     "text": [
      "\r",
      "Scraping lazarnedkov: 562post [15:07,  2.86post/s]"
     ]
    },
    {
     "name": "stderr",
     "output_type": "stream",
     "text": [
      "\r",
      "Scraping lazarnedkov: 563post [15:08,  3.03post/s]"
     ]
    },
    {
     "name": "stderr",
     "output_type": "stream",
     "text": [
      "\r",
      "Scraping lazarnedkov: 564post [15:08,  3.10post/s]"
     ]
    },
    {
     "name": "stderr",
     "output_type": "stream",
     "text": [
      "\r",
      "Scraping lazarnedkov: 564post [15:08,  1.61s/post]"
     ]
    },
    {
     "name": "stdout",
     "output_type": "stream",
     "text": [
      "Data saved to /opt/airflow/data/scrapped_ig_post_per_account/lazarnedkov_scraped_results.csv\n"
     ]
    },
    {
     "name": "stderr",
     "output_type": "stream",
     "text": [
      "\n"
     ]
    }
   ],
   "source": [
    "# Example usage\n",
    "scrape_account(account_name, os.getenv('IG_USERNAME'), os.getenv('IG_PASSWORD'), login_required=False)"
   ]
  }
 ],
 "metadata": {
  "kernelspec": {
   "display_name": "Python 3",
   "language": "python",
   "name": "python3"
  },
  "language_info": {
   "codemirror_mode": {
    "name": "ipython",
    "version": 3
   },
   "file_extension": ".py",
   "mimetype": "text/x-python",
   "name": "python",
   "nbconvert_exporter": "python",
   "pygments_lexer": "ipython3",
   "version": "3.12.7"
  },
  "papermill": {
   "default_parameters": {},
   "duration": 922.66776,
   "end_time": "2024-11-05T23:33:51.407764",
   "environment_variables": {},
   "exception": null,
   "input_path": "/opt/airflow/scripts/data_scrapping.ipynb",
   "output_path": "/opt/airflow/scripts/data_scrapping.ipynb",
   "parameters": {
    "account_name": "lazarnedkov"
   },
   "start_time": "2024-11-05T23:18:28.740004",
   "version": "2.6.0"
  }
 },
 "nbformat": 4,
 "nbformat_minor": 5
}